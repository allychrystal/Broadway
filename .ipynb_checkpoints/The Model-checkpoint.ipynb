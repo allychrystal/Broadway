{
 "cells": [
  {
   "cell_type": "markdown",
   "metadata": {},
   "source": [
    "## Bullish on Broadway:  Can the model predict a hit or flop?"
   ]
  },
  {
   "cell_type": "markdown",
   "metadata": {},
   "source": [
    "#### Import Programs"
   ]
  },
  {
   "cell_type": "code",
   "execution_count": 2,
   "metadata": {
    "collapsed": true
   },
   "outputs": [],
   "source": [
    "import numpy as np\n",
    "import pandas as pd\n",
    "import matplotlib.pyplot as plt\n",
    "import seaborn as sns\n",
    "%matplotlib inline\n",
    "\n",
    "from sklearn.neighbors import KNeighborsClassifier\n",
    "from sklearn.preprocessing import StandardScaler\n",
    "from sklearn.model_selection import cross_val_score, GridSearchCV, train_test_split, KFold, StratifiedKFold\n",
    "from sklearn.cluster import KMeans\n",
    "from sklearn.ensemble import AdaBoostClassifier, GradientBoostingClassifier, BaggingClassifier, RandomForestClassifier\n",
    "from sklearn.metrics import confusion_matrix, classification_report\n",
    "from sklearn.tree import DecisionTreeClassifier\n",
    "from sklearn import metrics"
   ]
  },
  {
   "cell_type": "markdown",
   "metadata": {},
   "source": [
    "#### Load Data from previous EDA"
   ]
  },
  {
   "cell_type": "code",
   "execution_count": 3,
   "metadata": {
    "collapsed": true
   },
   "outputs": [],
   "source": [
    "data = pd.read_csv('Model_Data.csv')"
   ]
  },
  {
   "cell_type": "code",
   "execution_count": 4,
   "metadata": {
    "collapsed": true
   },
   "outputs": [],
   "source": [
    "new = pd.read_csv('NewShows.csv')"
   ]
  },
  {
   "cell_type": "code",
   "execution_count": 5,
   "metadata": {
    "scrolled": true
   },
   "outputs": [
    {
     "data": {
      "text/plain": [
       "(469, 31)"
      ]
     },
     "execution_count": 5,
     "metadata": {},
     "output_type": "execute_result"
    }
   ],
   "source": [
    "data.shape"
   ]
  },
  {
   "cell_type": "markdown",
   "metadata": {},
   "source": [
    "#### Eliminate revenue, attendance and ticket price , closing information, number of performances (everything that would not be known when a show opens!)"
   ]
  },
  {
   "cell_type": "code",
   "execution_count": 6,
   "metadata": {
    "collapsed": true
   },
   "outputs": [],
   "source": [
    "data = data.drop(['Show','Gross', 'Potential', 'Attendance', 'Capacity',\n",
    "       'Weeks', 'Performances', 'AvgTicket', 'TopTicket', 'ZScore', 'G/P',\n",
    "       'A/C', 'Theatre', 'CloseYear', 'CloseMonth', 'Npreform'], axis =1 )"
   ]
  },
  {
   "cell_type": "code",
   "execution_count": 7,
   "metadata": {
    "collapsed": true
   },
   "outputs": [],
   "source": [
    "data = data.set_index('ID')"
   ]
  },
  {
   "cell_type": "code",
   "execution_count": 8,
   "metadata": {
    "collapsed": true
   },
   "outputs": [],
   "source": [
    "new = new.drop(['CloseYear', 'CloseMonth', 'Npreform'], axis =1)"
   ]
  },
  {
   "cell_type": "code",
   "execution_count": 9,
   "metadata": {
    "collapsed": true
   },
   "outputs": [],
   "source": [
    "new = new.set_index('ID')"
   ]
  },
  {
   "cell_type": "markdown",
   "metadata": {},
   "source": [
    "#### Numerical Features Model"
   ]
  },
  {
   "cell_type": "code",
   "execution_count": 10,
   "metadata": {
    "collapsed": true
   },
   "outputs": [],
   "source": [
    "numerical_features = list(data._get_numeric_data().drop(['Category'], axis=1).columns)"
   ]
  },
  {
   "cell_type": "code",
   "execution_count": 11,
   "metadata": {
    "collapsed": true
   },
   "outputs": [],
   "source": [
    "for feature in numerical_features:\n",
    "    data[feature] = data[feature].fillna(-999)"
   ]
  },
  {
   "cell_type": "code",
   "execution_count": 12,
   "metadata": {
    "collapsed": true
   },
   "outputs": [],
   "source": [
    "numerical_features_test = list(new._get_numeric_data().columns)"
   ]
  },
  {
   "cell_type": "code",
   "execution_count": 13,
   "metadata": {
    "collapsed": true
   },
   "outputs": [],
   "source": [
    "for feature in numerical_features_test:\n",
    "    new[feature] = new[feature].fillna(-999)"
   ]
  },
  {
   "cell_type": "markdown",
   "metadata": {},
   "source": [
    "#### Categorical Features"
   ]
  },
  {
   "cell_type": "code",
   "execution_count": 14,
   "metadata": {
    "collapsed": true
   },
   "outputs": [],
   "source": [
    "categorical_columns = list(data.select_dtypes(include=['object']).columns)"
   ]
  },
  {
   "cell_type": "code",
   "execution_count": 15,
   "metadata": {},
   "outputs": [
    {
     "data": {
      "text/plain": [
       "Index(['Category', 'O_R', 'M_P', 'Genre', 'OpenMonth', 'OpenYear', 'Coder',\n",
       "       'Cast_Size', 'Theatre.1', 'Capacity.1', 'Street', 'ProdCredits',\n",
       "       'Special', 'Organizer'],\n",
       "      dtype='object')"
      ]
     },
     "execution_count": 15,
     "metadata": {},
     "output_type": "execute_result"
    }
   ],
   "source": [
    "data.columns"
   ]
  },
  {
   "cell_type": "code",
   "execution_count": 16,
   "metadata": {
    "collapsed": true
   },
   "outputs": [],
   "source": [
    "for feature in categorical_columns:\n",
    "    data[feature] = data[feature].fillna('None')\n",
    "    new[feature] = new[feature].fillna('None')"
   ]
  },
  {
   "cell_type": "code",
   "execution_count": 17,
   "metadata": {
    "collapsed": true
   },
   "outputs": [],
   "source": [
    "for col in categorical_columns:\n",
    "    data_values = sorted(list(data[col]))\n",
    "    test_values = sorted(list(new[col]))\n",
    "    categories = set(data_values + test_values)\n",
    "    data[col] = pd.Categorical(data[col], categories = categories)\n",
    "    new[col] = pd.Categorical(new[col], categories = categories)"
   ]
  },
  {
   "cell_type": "code",
   "execution_count": 18,
   "metadata": {
    "collapsed": true
   },
   "outputs": [],
   "source": [
    "data_dummies = pd.get_dummies(data[categorical_columns])"
   ]
  },
  {
   "cell_type": "code",
   "execution_count": 19,
   "metadata": {
    "collapsed": true
   },
   "outputs": [],
   "source": [
    "new_dummies = pd.get_dummies(new[categorical_columns])"
   ]
  },
  {
   "cell_type": "code",
   "execution_count": 20,
   "metadata": {
    "collapsed": true
   },
   "outputs": [],
   "source": [
    "df = pd.concat((data_dummies, data[numerical_features]), axis=1)"
   ]
  },
  {
   "cell_type": "code",
   "execution_count": 21,
   "metadata": {
    "collapsed": true
   },
   "outputs": [],
   "source": [
    "df_new = pd.concat((new_dummies, new[numerical_features]), axis =1 )"
   ]
  },
  {
   "cell_type": "markdown",
   "metadata": {},
   "source": [
    "#### Correlation Matrix"
   ]
  },
  {
   "cell_type": "code",
   "execution_count": 22,
   "metadata": {
    "scrolled": true
   },
   "outputs": [
    {
     "data": {
      "image/png": "[encoded data removed]",
      "text/plain": [
       "<matplotlib.figure.Figure at 0x10fd0acf8>"
      ]
     },
     "metadata": {},
     "output_type": "display_data"
    }
   ],
   "source": [
    "mean_corr = data.corr()\n",
    "\n",
    "fig, ax = plt.subplots(figsize=(4,4))\n",
    "mask = np.zeros_like(mean_corr, dtype=np.bool)\n",
    "mask[np.triu_indices_from(mask)] = True\n",
    "ax = sns.heatmap(mean_corr, mask=mask, ax=ax)\n",
    "\n",
    "ax.set_xticklabels(ax.xaxis.get_ticklabels(), fontsize=14)\n",
    "ax.set_yticklabels(ax.yaxis.get_ticklabels(), fontsize=14)\n",
    "plt.show()"
   ]
  },
  {
   "cell_type": "markdown",
   "metadata": {},
   "source": [
    "#### Create target vector (category) and predictor matrix"
   ]
  },
  {
   "cell_type": "code",
   "execution_count": 23,
   "metadata": {
    "collapsed": true
   },
   "outputs": [],
   "source": [
    "y = data.Category.copy()\n",
    "X = df.copy()"
   ]
  },
  {
   "cell_type": "code",
   "execution_count": 24,
   "metadata": {
    "collapsed": true
   },
   "outputs": [],
   "source": [
    "X_train, X_test, y_train, y_test = train_test_split(X, y, test_size=0.25, random_state= 444448)"
   ]
  },
  {
   "cell_type": "code",
   "execution_count": 25,
   "metadata": {
    "collapsed": true
   },
   "outputs": [],
   "source": [
    "ss = StandardScaler()\n",
    "X_train = ss.fit_transform(X_train)\n",
    "X_test = ss.transform(X_test)\n",
    "df_new_ss = ss.transform(df_new)"
   ]
  },
  {
   "cell_type": "markdown",
   "metadata": {},
   "source": [
    "#### Baseline Accuracy"
   ]
  },
  {
   "cell_type": "code",
   "execution_count": 26,
   "metadata": {
    "scrolled": true
   },
   "outputs": [
    {
     "name": "stdout",
     "output_type": "stream",
     "text": [
      "0.7121535181236673\n"
     ]
    }
   ],
   "source": [
    "baseline= 1 - np.mean(y)\n",
    "print(baseline)"
   ]
  },
  {
   "cell_type": "markdown",
   "metadata": {},
   "source": [
    "### Ensemble Model"
   ]
  },
  {
   "cell_type": "code",
   "execution_count": 27,
   "metadata": {},
   "outputs": [
    {
     "name": "stdout",
     "output_type": "stream",
     "text": [
      "0.940677966102\n"
     ]
    }
   ],
   "source": [
    "clf = DecisionTreeClassifier(max_depth=3)\n",
    "bag_clf = BaggingClassifier(clf)\n",
    "\n",
    "bag_clf.fit(X_train, y_train)\n",
    "y_pred_bag = bag_clf.predict(X_test)\n",
    "print(metrics.accuracy_score(y_test, y_pred_bag))"
   ]
  },
  {
   "cell_type": "code",
   "execution_count": 28,
   "metadata": {
    "scrolled": false
   },
   "outputs": [
    {
     "name": "stdout",
     "output_type": "stream",
     "text": [
      "[ 1.          0.92957746  0.92857143  0.97142857  0.91304348]\n",
      "0.94852418861\n"
     ]
    }
   ],
   "source": [
    "scores_bag = cross_val_score(bag_clf, X_train, y_train, cv=5)\n",
    "print(scores_bag)\n",
    "print(np.mean(scores_bag))"
   ]
  },
  {
   "cell_type": "code",
   "execution_count": 29,
   "metadata": {
    "collapsed": true,
    "scrolled": true
   },
   "outputs": [],
   "source": [
    "predicted_bag = bag_clf.predict(X_test)"
   ]
  },
  {
   "cell_type": "code",
   "execution_count": 30,
   "metadata": {
    "scrolled": false
   },
   "outputs": [
    {
     "data": {
      "text/html": [
       "<div>\n",
       "<style>\n",
       "    .dataframe thead tr:only-child th {\n",
       "        text-align: right;\n",
       "    }\n",
       "\n",
       "    .dataframe thead th {\n",
       "        text-align: left;\n",
       "    }\n",
       "\n",
       "    .dataframe tbody tr th {\n",
       "        vertical-align: top;\n",
       "    }\n",
       "</style>\n",
       "<table border=\"1\" class=\"dataframe\">\n",
       "  <thead>\n",
       "    <tr style=\"text-align: right;\">\n",
       "      <th></th>\n",
       "      <th>Predicted_Flop</th>\n",
       "      <th>Predicted_Hit</th>\n",
       "    </tr>\n",
       "  </thead>\n",
       "  <tbody>\n",
       "    <tr>\n",
       "      <th>Is_Flop</th>\n",
       "      <td>86</td>\n",
       "      <td>6</td>\n",
       "    </tr>\n",
       "    <tr>\n",
       "      <th>Is_Hit</th>\n",
       "      <td>1</td>\n",
       "      <td>25</td>\n",
       "    </tr>\n",
       "  </tbody>\n",
       "</table>\n",
       "</div>"
      ],
      "text/plain": [
       "         Predicted_Flop  Predicted_Hit\n",
       "Is_Flop              86              6\n",
       "Is_Hit                1             25"
      ]
     },
     "execution_count": 30,
     "metadata": {},
     "output_type": "execute_result"
    }
   ],
   "source": [
    "conmat = np.array(confusion_matrix(y_test, predicted_bag))\n",
    "confusion = pd.DataFrame(conmat, index=['Is_Flop', 'Is_Hit'],\n",
    "                        columns = ['Predicted_Flop', 'Predicted_Hit'])\n",
    "confusion"
   ]
  },
  {
   "cell_type": "markdown",
   "metadata": {},
   "source": [
    "##### Gradient Boost Model"
   ]
  },
  {
   "cell_type": "code",
   "execution_count": 31,
   "metadata": {
    "scrolled": true
   },
   "outputs": [
    {
     "name": "stdout",
     "output_type": "stream",
     "text": [
      "Best Score:  0.940170940171\n",
      "Best Params:  {'max_depth': 2, 'max_features': 'auto', 'n_estimators': 50}\n",
      "Test Score:  0.940677966102\n"
     ]
    }
   ],
   "source": [
    "gbc = GradientBoostingClassifier()\n",
    "gbc_params = {\n",
    "    'n_estimators' : [75, 100, 50],\n",
    "    'max_depth' : range(2,5),\n",
    "    'max_features' : ['auto', 'log2', None]\n",
    "}\n",
    "gbc_model = GridSearchCV(gbc, param_grid= gbc_params)\n",
    "gbc_model.fit(X_train, y_train)\n",
    "print('Best Score: ', gbc_model.best_score_)\n",
    "print('Best Params: ', gbc_model.best_params_)\n",
    "print('Test Score: ', gbc_model.score(X_test, y_test))"
   ]
  },
  {
   "cell_type": "code",
   "execution_count": 32,
   "metadata": {
    "collapsed": true
   },
   "outputs": [],
   "source": [
    "predicted = gbc_model.predict(X_test)"
   ]
  },
  {
   "cell_type": "code",
   "execution_count": 33,
   "metadata": {
    "scrolled": true
   },
   "outputs": [
    {
     "data": {
      "text/html": [
       "<div>\n",
       "<style>\n",
       "    .dataframe thead tr:only-child th {\n",
       "        text-align: right;\n",
       "    }\n",
       "\n",
       "    .dataframe thead th {\n",
       "        text-align: left;\n",
       "    }\n",
       "\n",
       "    .dataframe tbody tr th {\n",
       "        vertical-align: top;\n",
       "    }\n",
       "</style>\n",
       "<table border=\"1\" class=\"dataframe\">\n",
       "  <thead>\n",
       "    <tr style=\"text-align: right;\">\n",
       "      <th></th>\n",
       "      <th>Predicted_Flop</th>\n",
       "      <th>Predicted_Hit</th>\n",
       "    </tr>\n",
       "  </thead>\n",
       "  <tbody>\n",
       "    <tr>\n",
       "      <th>Is_Flop</th>\n",
       "      <td>86</td>\n",
       "      <td>6</td>\n",
       "    </tr>\n",
       "    <tr>\n",
       "      <th>Is_Hit</th>\n",
       "      <td>1</td>\n",
       "      <td>25</td>\n",
       "    </tr>\n",
       "  </tbody>\n",
       "</table>\n",
       "</div>"
      ],
      "text/plain": [
       "         Predicted_Flop  Predicted_Hit\n",
       "Is_Flop              86              6\n",
       "Is_Hit                1             25"
      ]
     },
     "execution_count": 33,
     "metadata": {},
     "output_type": "execute_result"
    }
   ],
   "source": [
    "conmat = np.array(confusion_matrix(y_test, predicted))\n",
    "confusion = pd.DataFrame(conmat, index=['Is_Flop', 'Is_Hit'],\n",
    "                        columns = ['Predicted_Flop', 'Predicted_Hit'])\n",
    "confusion"
   ]
  },
  {
   "cell_type": "markdown",
   "metadata": {},
   "source": [
    "#### Feature Importance"
   ]
  },
  {
   "cell_type": "code",
   "execution_count": 34,
   "metadata": {
    "collapsed": true
   },
   "outputs": [],
   "source": [
    "all_data = pd.concat([df, data['Category']], axis=1)"
   ]
  },
  {
   "cell_type": "code",
   "execution_count": 35,
   "metadata": {
    "collapsed": true
   },
   "outputs": [],
   "source": [
    "correlation = (all_data.corr()['Category'].apply(lambda x: abs(x)).sort_values(ascending=False))"
   ]
  },
  {
   "cell_type": "code",
   "execution_count": 36,
   "metadata": {
    "collapsed": true,
    "scrolled": true
   },
   "outputs": [],
   "source": [
    "correlation = pd.DataFrame(correlation)"
   ]
  },
  {
   "cell_type": "code",
   "execution_count": 37,
   "metadata": {
    "scrolled": true
   },
   "outputs": [
    {
     "data": {
      "text/html": [
       "<div>\n",
       "<style>\n",
       "    .dataframe thead tr:only-child th {\n",
       "        text-align: right;\n",
       "    }\n",
       "\n",
       "    .dataframe thead th {\n",
       "        text-align: left;\n",
       "    }\n",
       "\n",
       "    .dataframe tbody tr th {\n",
       "        vertical-align: top;\n",
       "    }\n",
       "</style>\n",
       "<table border=\"1\" class=\"dataframe\">\n",
       "  <thead>\n",
       "    <tr style=\"text-align: right;\">\n",
       "      <th></th>\n",
       "      <th>Category</th>\n",
       "    </tr>\n",
       "  </thead>\n",
       "  <tbody>\n",
       "    <tr>\n",
       "      <th>Category</th>\n",
       "      <td>1.000000</td>\n",
       "    </tr>\n",
       "    <tr>\n",
       "      <th>ProdCredits</th>\n",
       "      <td>0.803218</td>\n",
       "    </tr>\n",
       "    <tr>\n",
       "      <th>Cast_Size</th>\n",
       "      <td>0.500314</td>\n",
       "    </tr>\n",
       "    <tr>\n",
       "      <th>Capacity.1</th>\n",
       "      <td>0.496387</td>\n",
       "    </tr>\n",
       "    <tr>\n",
       "      <th>M_P_Play</th>\n",
       "      <td>0.384993</td>\n",
       "    </tr>\n",
       "    <tr>\n",
       "      <th>M_P_Musical</th>\n",
       "      <td>0.384993</td>\n",
       "    </tr>\n",
       "    <tr>\n",
       "      <th>Coder_OP</th>\n",
       "      <td>0.286192</td>\n",
       "    </tr>\n",
       "    <tr>\n",
       "      <th>Special_Kids</th>\n",
       "      <td>0.285907</td>\n",
       "    </tr>\n",
       "    <tr>\n",
       "      <th>Coder_OM</th>\n",
       "      <td>0.281276</td>\n",
       "    </tr>\n",
       "    <tr>\n",
       "      <th>Special_None</th>\n",
       "      <td>0.245915</td>\n",
       "    </tr>\n",
       "    <tr>\n",
       "      <th>Organizer_Nederlander</th>\n",
       "      <td>0.243898</td>\n",
       "    </tr>\n",
       "    <tr>\n",
       "      <th>Organizer_Roundabout</th>\n",
       "      <td>0.187108</td>\n",
       "    </tr>\n",
       "    <tr>\n",
       "      <th>Coder_RM</th>\n",
       "      <td>0.187068</td>\n",
       "    </tr>\n",
       "    <tr>\n",
       "      <th>Special_Disney</th>\n",
       "      <td>0.179057</td>\n",
       "    </tr>\n",
       "    <tr>\n",
       "      <th>Organizer_Manhattan  Club</th>\n",
       "      <td>0.177741</td>\n",
       "    </tr>\n",
       "    <tr>\n",
       "      <th>Theatre.1_Samuel J. Friedman</th>\n",
       "      <td>0.177741</td>\n",
       "    </tr>\n",
       "    <tr>\n",
       "      <th>Theatre.1_Lunt-Fontanne</th>\n",
       "      <td>0.170836</td>\n",
       "    </tr>\n",
       "    <tr>\n",
       "      <th>Theatre.1_American Airlines</th>\n",
       "      <td>0.156494</td>\n",
       "    </tr>\n",
       "    <tr>\n",
       "      <th>Theatre.1_Broadhurst</th>\n",
       "      <td>0.152084</td>\n",
       "    </tr>\n",
       "    <tr>\n",
       "      <th>Theatre.1_Lyceum</th>\n",
       "      <td>0.137646</td>\n",
       "    </tr>\n",
       "    <tr>\n",
       "      <th>Theatre.1_Imperial</th>\n",
       "      <td>0.134466</td>\n",
       "    </tr>\n",
       "    <tr>\n",
       "      <th>Theatre.1_Palace</th>\n",
       "      <td>0.134466</td>\n",
       "    </tr>\n",
       "    <tr>\n",
       "      <th>Coder_RP</th>\n",
       "      <td>0.129629</td>\n",
       "    </tr>\n",
       "    <tr>\n",
       "      <th>Organizer_Disney</th>\n",
       "      <td>0.126204</td>\n",
       "    </tr>\n",
       "    <tr>\n",
       "      <th>Theatre.1_New Amsterdam</th>\n",
       "      <td>0.126204</td>\n",
       "    </tr>\n",
       "    <tr>\n",
       "      <th>Theatre.1_Marquis</th>\n",
       "      <td>0.119295</td>\n",
       "    </tr>\n",
       "    <tr>\n",
       "      <th>Theatre.1_Shubert</th>\n",
       "      <td>0.117425</td>\n",
       "    </tr>\n",
       "    <tr>\n",
       "      <th>Theatre.1_Al Hirschfeld</th>\n",
       "      <td>0.117033</td>\n",
       "    </tr>\n",
       "    <tr>\n",
       "      <th>Theatre.1_Richard Rodgers</th>\n",
       "      <td>0.117033</td>\n",
       "    </tr>\n",
       "    <tr>\n",
       "      <th>Theatre.1_Broadway</th>\n",
       "      <td>0.117033</td>\n",
       "    </tr>\n",
       "    <tr>\n",
       "      <th>...</th>\n",
       "      <td>...</td>\n",
       "    </tr>\n",
       "    <tr>\n",
       "      <th>Organizer_Second Stage</th>\n",
       "      <td>0.039418</td>\n",
       "    </tr>\n",
       "    <tr>\n",
       "      <th>Theatre.1_Helen Hayes</th>\n",
       "      <td>0.039418</td>\n",
       "    </tr>\n",
       "    <tr>\n",
       "      <th>Special_Box</th>\n",
       "      <td>0.038259</td>\n",
       "    </tr>\n",
       "    <tr>\n",
       "      <th>Theatre.1_Neil Simon</th>\n",
       "      <td>0.036563</td>\n",
       "    </tr>\n",
       "    <tr>\n",
       "      <th>Theatre.1_August Wilson</th>\n",
       "      <td>0.030665</td>\n",
       "    </tr>\n",
       "    <tr>\n",
       "      <th>Genre_ Romance</th>\n",
       "      <td>0.030665</td>\n",
       "    </tr>\n",
       "    <tr>\n",
       "      <th>Genre_ Circus</th>\n",
       "      <td>0.030665</td>\n",
       "    </tr>\n",
       "    <tr>\n",
       "      <th>Special_Shakespeare</th>\n",
       "      <td>0.030468</td>\n",
       "    </tr>\n",
       "    <tr>\n",
       "      <th>Theatre.1_Stephen Sondheim</th>\n",
       "      <td>0.030468</td>\n",
       "    </tr>\n",
       "    <tr>\n",
       "      <th>Genre_ Operetta</th>\n",
       "      <td>0.029388</td>\n",
       "    </tr>\n",
       "    <tr>\n",
       "      <th>Genre_ Concert</th>\n",
       "      <td>0.029388</td>\n",
       "    </tr>\n",
       "    <tr>\n",
       "      <th>Genre_Monologue</th>\n",
       "      <td>0.029388</td>\n",
       "    </tr>\n",
       "    <tr>\n",
       "      <th>Genre_ History</th>\n",
       "      <td>0.029388</td>\n",
       "    </tr>\n",
       "    <tr>\n",
       "      <th>Street</th>\n",
       "      <td>0.029344</td>\n",
       "    </tr>\n",
       "    <tr>\n",
       "      <th>Theatre.1_Bernard B. Jacobs</th>\n",
       "      <td>0.026847</td>\n",
       "    </tr>\n",
       "    <tr>\n",
       "      <th>Theatre.1_Music Box</th>\n",
       "      <td>0.022510</td>\n",
       "    </tr>\n",
       "    <tr>\n",
       "      <th>Theatre.1_Ethel Barrymore</th>\n",
       "      <td>0.022510</td>\n",
       "    </tr>\n",
       "    <tr>\n",
       "      <th>Genre_ Tragedy</th>\n",
       "      <td>0.020141</td>\n",
       "    </tr>\n",
       "    <tr>\n",
       "      <th>OpenMonth</th>\n",
       "      <td>0.015652</td>\n",
       "    </tr>\n",
       "    <tr>\n",
       "      <th>Organizer_Lincoln Center</th>\n",
       "      <td>0.013545</td>\n",
       "    </tr>\n",
       "    <tr>\n",
       "      <th>Theatre.1_Vivian Beaumont</th>\n",
       "      <td>0.013545</td>\n",
       "    </tr>\n",
       "    <tr>\n",
       "      <th>O_R_Original</th>\n",
       "      <td>0.011990</td>\n",
       "    </tr>\n",
       "    <tr>\n",
       "      <th>O_R_Revival</th>\n",
       "      <td>0.011990</td>\n",
       "    </tr>\n",
       "    <tr>\n",
       "      <th>Genre_ Solo</th>\n",
       "      <td>0.011012</td>\n",
       "    </tr>\n",
       "    <tr>\n",
       "      <th>Organizer_Shubert</th>\n",
       "      <td>0.008383</td>\n",
       "    </tr>\n",
       "    <tr>\n",
       "      <th>Genre_ Fantasy</th>\n",
       "      <td>0.008061</td>\n",
       "    </tr>\n",
       "    <tr>\n",
       "      <th>Genre_ Dance</th>\n",
       "      <td>0.008061</td>\n",
       "    </tr>\n",
       "    <tr>\n",
       "      <th>Theatre.1_Hudson</th>\n",
       "      <td>0.008061</td>\n",
       "    </tr>\n",
       "    <tr>\n",
       "      <th>Theatre.1_Brooks Atkinson</th>\n",
       "      <td>0.007401</td>\n",
       "    </tr>\n",
       "    <tr>\n",
       "      <th>Theatre.1_Nederlander</th>\n",
       "      <td>0.003962</td>\n",
       "    </tr>\n",
       "  </tbody>\n",
       "</table>\n",
       "<p>93 rows × 1 columns</p>\n",
       "</div>"
      ],
      "text/plain": [
       "                               Category\n",
       "Category                       1.000000\n",
       "ProdCredits                    0.803218\n",
       "Cast_Size                      0.500314\n",
       "Capacity.1                     0.496387\n",
       "M_P_Play                       0.384993\n",
       "M_P_Musical                    0.384993\n",
       "Coder_OP                       0.286192\n",
       "Special_Kids                   0.285907\n",
       "Coder_OM                       0.281276\n",
       "Special_None                   0.245915\n",
       "Organizer_Nederlander          0.243898\n",
       "Organizer_Roundabout           0.187108\n",
       "Coder_RM                       0.187068\n",
       "Special_Disney                 0.179057\n",
       "Organizer_Manhattan  Club      0.177741\n",
       "Theatre.1_Samuel J. Friedman   0.177741\n",
       "Theatre.1_Lunt-Fontanne        0.170836\n",
       "Theatre.1_American Airlines    0.156494\n",
       "Theatre.1_Broadhurst           0.152084\n",
       "Theatre.1_Lyceum               0.137646\n",
       "Theatre.1_Imperial             0.134466\n",
       "Theatre.1_Palace               0.134466\n",
       "Coder_RP                       0.129629\n",
       "Organizer_Disney               0.126204\n",
       "Theatre.1_New Amsterdam        0.126204\n",
       "Theatre.1_Marquis              0.119295\n",
       "Theatre.1_Shubert              0.117425\n",
       "Theatre.1_Al Hirschfeld        0.117033\n",
       "Theatre.1_Richard Rodgers      0.117033\n",
       "Theatre.1_Broadway             0.117033\n",
       "...                                 ...\n",
       "Organizer_Second Stage         0.039418\n",
       "Theatre.1_Helen Hayes          0.039418\n",
       "Special_Box                    0.038259\n",
       "Theatre.1_Neil Simon           0.036563\n",
       "Theatre.1_August Wilson        0.030665\n",
       "Genre_ Romance                 0.030665\n",
       "Genre_ Circus                  0.030665\n",
       "Special_Shakespeare            0.030468\n",
       "Theatre.1_Stephen Sondheim     0.030468\n",
       "Genre_ Operetta                0.029388\n",
       "Genre_ Concert                 0.029388\n",
       "Genre_Monologue                0.029388\n",
       "Genre_ History                 0.029388\n",
       "Street                         0.029344\n",
       "Theatre.1_Bernard B. Jacobs    0.026847\n",
       "Theatre.1_Music Box            0.022510\n",
       "Theatre.1_Ethel Barrymore      0.022510\n",
       "Genre_ Tragedy                 0.020141\n",
       "OpenMonth                      0.015652\n",
       "Organizer_Lincoln Center       0.013545\n",
       "Theatre.1_Vivian Beaumont      0.013545\n",
       "O_R_Original                   0.011990\n",
       "O_R_Revival                    0.011990\n",
       "Genre_ Solo                    0.011012\n",
       "Organizer_Shubert              0.008383\n",
       "Genre_ Fantasy                 0.008061\n",
       "Genre_ Dance                   0.008061\n",
       "Theatre.1_Hudson               0.008061\n",
       "Theatre.1_Brooks Atkinson      0.007401\n",
       "Theatre.1_Nederlander          0.003962\n",
       "\n",
       "[93 rows x 1 columns]"
      ]
     },
     "execution_count": 37,
     "metadata": {},
     "output_type": "execute_result"
    }
   ],
   "source": [
    "correlation"
   ]
  },
  {
   "cell_type": "code",
   "execution_count": 38,
   "metadata": {
    "scrolled": true
   },
   "outputs": [
    {
     "data": {
      "image/png": "[encoded data removed]",
      "text/plain": [
       "<matplotlib.figure.Figure at 0x11320d898>"
      ]
     },
     "metadata": {},
     "output_type": "display_data"
    }
   ],
   "source": [
    "correlation = (data.corr()['Category'].apply(lambda x: abs(x)).sort_values(ascending=False))\n",
    "\n",
    "corr_df = pd.DataFrame()\n",
    "corr_df['Correlations'] = correlation\n",
    "corr_df['Feature'] =correlation.index\n",
    "corr_df.drop(['Category'], inplace= True)\n",
    "\n",
    "plt.figure(figsize=(25, 5))\n",
    "sns.barplot('Feature', 'Correlations', data= corr_df, palette='copper')\n",
    "plt.title('Correlation Importance', size= 20)\n",
    "plt.xlabel('Feature', size= 20)\n",
    "plt.ylabel('Correlation (Absolute Value)', size= 20)\n",
    "plt.tick_params(labelsize=13)\n",
    "plt.show()"
   ]
  },
  {
   "cell_type": "markdown",
   "metadata": {},
   "source": [
    "#### New Shows"
   ]
  },
  {
   "cell_type": "markdown",
   "metadata": {},
   "source": [
    "#### Upcoming 2018 Shows- which one's will be a success?"
   ]
  },
  {
   "cell_type": "code",
   "execution_count": 292,
   "metadata": {
    "collapsed": true
   },
   "outputs": [],
   "source": [
    "predicted_new = bag_clf.predict(df_new_ss)"
   ]
  },
  {
   "cell_type": "code",
   "execution_count": 293,
   "metadata": {
    "collapsed": true
   },
   "outputs": [],
   "source": [
    "new['Predict'] = predicted_new"
   ]
  },
  {
   "cell_type": "code",
   "execution_count": 294,
   "metadata": {
    "collapsed": true
   },
   "outputs": [],
   "source": [
    "new = new[['Show', 'Predict']]"
   ]
  },
  {
   "cell_type": "code",
   "execution_count": 295,
   "metadata": {
    "scrolled": false
   },
   "outputs": [
    {
     "data": {
      "text/html": [
       "<div>\n",
       "<style>\n",
       "    .dataframe thead tr:only-child th {\n",
       "        text-align: right;\n",
       "    }\n",
       "\n",
       "    .dataframe thead th {\n",
       "        text-align: left;\n",
       "    }\n",
       "\n",
       "    .dataframe tbody tr th {\n",
       "        vertical-align: top;\n",
       "    }\n",
       "</style>\n",
       "<table border=\"1\" class=\"dataframe\">\n",
       "  <thead>\n",
       "    <tr style=\"text-align: right;\">\n",
       "      <th></th>\n",
       "      <th>Show</th>\n",
       "      <th>Predict</th>\n",
       "    </tr>\n",
       "    <tr>\n",
       "      <th>ID</th>\n",
       "      <th></th>\n",
       "      <th></th>\n",
       "    </tr>\n",
       "  </thead>\n",
       "  <tbody>\n",
       "    <tr>\n",
       "      <th>474</th>\n",
       "      <td>Angels in America: Millennium Approaches</td>\n",
       "      <td>0</td>\n",
       "    </tr>\n",
       "    <tr>\n",
       "      <th>475</th>\n",
       "      <td>Carousel</td>\n",
       "      <td>1</td>\n",
       "    </tr>\n",
       "    <tr>\n",
       "      <th>476</th>\n",
       "      <td>Children of a Lesser God</td>\n",
       "      <td>0</td>\n",
       "    </tr>\n",
       "    <tr>\n",
       "      <th>477</th>\n",
       "      <td>Escape to Margaritaville</td>\n",
       "      <td>0</td>\n",
       "    </tr>\n",
       "    <tr>\n",
       "      <th>478</th>\n",
       "      <td>Farinelli and the King</td>\n",
       "      <td>0</td>\n",
       "    </tr>\n",
       "    <tr>\n",
       "      <th>479</th>\n",
       "      <td>Frozen</td>\n",
       "      <td>1</td>\n",
       "    </tr>\n",
       "    <tr>\n",
       "      <th>480</th>\n",
       "      <td>Gettin' The Band Back Together</td>\n",
       "      <td>0</td>\n",
       "    </tr>\n",
       "    <tr>\n",
       "      <th>481</th>\n",
       "      <td>Harry Potter and the Cursed Child</td>\n",
       "      <td>0</td>\n",
       "    </tr>\n",
       "    <tr>\n",
       "      <th>482</th>\n",
       "      <td>John Lithgow: Stories by Heart</td>\n",
       "      <td>0</td>\n",
       "    </tr>\n",
       "    <tr>\n",
       "      <th>483</th>\n",
       "      <td>Lobby Hero</td>\n",
       "      <td>0</td>\n",
       "    </tr>\n",
       "    <tr>\n",
       "      <th>484</th>\n",
       "      <td>Mean Girls</td>\n",
       "      <td>1</td>\n",
       "    </tr>\n",
       "    <tr>\n",
       "      <th>485</th>\n",
       "      <td>My Fair Lady</td>\n",
       "      <td>0</td>\n",
       "    </tr>\n",
       "    <tr>\n",
       "      <th>486</th>\n",
       "      <td>Once on This Island</td>\n",
       "      <td>0</td>\n",
       "    </tr>\n",
       "    <tr>\n",
       "      <th>487</th>\n",
       "      <td>Pretty Woman: The Musical</td>\n",
       "      <td>1</td>\n",
       "    </tr>\n",
       "    <tr>\n",
       "      <th>488</th>\n",
       "      <td>Saint Joan</td>\n",
       "      <td>0</td>\n",
       "    </tr>\n",
       "    <tr>\n",
       "      <th>489</th>\n",
       "      <td>SpongeBob SquarePants</td>\n",
       "      <td>0</td>\n",
       "    </tr>\n",
       "    <tr>\n",
       "      <th>490</th>\n",
       "      <td>Straight White Men</td>\n",
       "      <td>0</td>\n",
       "    </tr>\n",
       "    <tr>\n",
       "      <th>491</th>\n",
       "      <td>The Boys in the Band</td>\n",
       "      <td>0</td>\n",
       "    </tr>\n",
       "    <tr>\n",
       "      <th>492</th>\n",
       "      <td>The Children</td>\n",
       "      <td>0</td>\n",
       "    </tr>\n",
       "    <tr>\n",
       "      <th>493</th>\n",
       "      <td>The Iceman Cometh</td>\n",
       "      <td>0</td>\n",
       "    </tr>\n",
       "    <tr>\n",
       "      <th>494</th>\n",
       "      <td>Three Tall Women</td>\n",
       "      <td>1</td>\n",
       "    </tr>\n",
       "    <tr>\n",
       "      <th>495</th>\n",
       "      <td>Travesties</td>\n",
       "      <td>0</td>\n",
       "    </tr>\n",
       "  </tbody>\n",
       "</table>\n",
       "</div>"
      ],
      "text/plain": [
       "                                          Show  Predict\n",
       "ID                                                     \n",
       "474  Angels in America: Millennium Approaches         0\n",
       "475                                  Carousel         1\n",
       "476                  Children of a Lesser God         0\n",
       "477                  Escape to Margaritaville         0\n",
       "478                    Farinelli and the King         0\n",
       "479                                    Frozen         1\n",
       "480            Gettin' The Band Back Together         0\n",
       "481          Harry Potter and the Cursed Child        0\n",
       "482            John Lithgow: Stories by Heart         0\n",
       "483                                Lobby Hero         0\n",
       "484                                Mean Girls         1\n",
       "485                              My Fair Lady         0\n",
       "486                       Once on This Island         0\n",
       "487                 Pretty Woman: The Musical         1\n",
       "488                                Saint Joan         0\n",
       "489                     SpongeBob SquarePants         0\n",
       "490                        Straight White Men         0\n",
       "491                      The Boys in the Band         0\n",
       "492                              The Children         0\n",
       "493                         The Iceman Cometh         0\n",
       "494                          Three Tall Women         1\n",
       "495                                Travesties         0"
      ]
     },
     "execution_count": 295,
     "metadata": {},
     "output_type": "execute_result"
    }
   ],
   "source": [
    "new"
   ]
  },
  {
   "cell_type": "code",
   "execution_count": null,
   "metadata": {
    "collapsed": true
   },
   "outputs": [],
   "source": []
  }
 ],
 "metadata": {
  "kernelspec": {
   "display_name": "Python 3",
   "language": "python",
   "name": "python3"
  },
  "language_info": {
   "codemirror_mode": {
    "name": "ipython",
    "version": 3
   },
   "file_extension": ".py",
   "mimetype": "text/x-python",
   "name": "python",
   "nbconvert_exporter": "python",
   "pygments_lexer": "ipython3",
   "version": "3.6.1"
  }
 },
 "nbformat": 4,
 "nbformat_minor": 2
}
