{
 "cells": [
  {
   "cell_type": "markdown",
   "metadata": {},
   "source": [
    "#### Import Programs"
   ]
  },
  {
   "cell_type": "code",
   "execution_count": 289,
   "metadata": {
    "collapsed": true
   },
   "outputs": [],
   "source": [
    "import numpy as np\n",
    "import pandas as pd\n",
    "import matplotlib.pyplot as plt\n",
    "import seaborn as sns\n",
    "%matplotlib inline\n",
    "\n",
    "sns.set_style('whitegrid')\n",
    "\n",
    "%matplotlib inline\n",
    "%config InlineBackend.figure_format = 'retina'"
   ]
  },
  {
   "cell_type": "markdown",
   "metadata": {},
   "source": [
    "#### Load Data"
   ]
  },
  {
   "cell_type": "code",
   "execution_count": 290,
   "metadata": {
    "collapsed": true
   },
   "outputs": [],
   "source": [
    "df = pd.read_csv('ibdb.csv', sep=',', encoding='latin-1')"
   ]
  },
  {
   "cell_type": "code",
   "execution_count": 291,
   "metadata": {
    "scrolled": true
   },
   "outputs": [
    {
     "data": {
      "text/plain": [
       "(18017, 18)"
      ]
     },
     "execution_count": 291,
     "metadata": {},
     "output_type": "execute_result"
    }
   ],
   "source": [
    "df.shape"
   ]
  },
  {
   "cell_type": "markdown",
   "metadata": {},
   "source": [
    "#### Fill Nulls\n",
    "\n",
    "- Top Ticket Nulls = Average Ticket\n",
    "- Att Change and Gross Change means there was 0 change of first week of production"
   ]
  },
  {
   "cell_type": "code",
   "execution_count": 292,
   "metadata": {
    "collapsed": true
   },
   "outputs": [],
   "source": [
    "def fill_nulls(data):\n",
    "    data['GrossChange'] = data['GrossChange'].fillna(0)\n",
    "    data['AttChange'] = data['AttChange'].fillna(0)\n",
    "    data['TopTicket'] = data['TopTicket'].fillna(data['AvgTicket'])\n",
    "    return data\n",
    "\n",
    "df = fill_nulls(df)"
   ]
  },
  {
   "cell_type": "markdown",
   "metadata": {},
   "source": [
    "#### Z-score Per Week (Comparing Gross Revenue/ Performances = Gross / Show"
   ]
  },
  {
   "cell_type": "code",
   "execution_count": 293,
   "metadata": {
    "collapsed": true
   },
   "outputs": [],
   "source": [
    "df['GrossPerShow'] = round(df['Gross'] / (df['Performances'] + df['Previews']), 0)   "
   ]
  },
  {
   "cell_type": "code",
   "execution_count": 294,
   "metadata": {
    "collapsed": true
   },
   "outputs": [],
   "source": [
    "Mean= []\n",
    "\n",
    "for row in df['Week']:\n",
    "    mu = df.loc[df['Week'] == row, 'GrossPerShow'].mean()\n",
    "    Mean.append(round(mu, 0))\n",
    "    \n",
    "df['Mean'] = Mean"
   ]
  },
  {
   "cell_type": "code",
   "execution_count": 295,
   "metadata": {
    "collapsed": true
   },
   "outputs": [],
   "source": [
    "Std= []\n",
    "\n",
    "for row in df['Week']:\n",
    "    std = df.loc[df['Week'] == row, 'GrossPerShow'].std()\n",
    "    Std.append(round(std, 0))\n",
    "    \n",
    "df['Std'] = Std"
   ]
  },
  {
   "cell_type": "code",
   "execution_count": 296,
   "metadata": {
    "collapsed": true
   },
   "outputs": [],
   "source": [
    "df['Z'] = ((df['GrossPerShow'] - df['Mean']) / df['Std'])"
   ]
  },
  {
   "cell_type": "code",
   "execution_count": 297,
   "metadata": {
    "scrolled": true
   },
   "outputs": [
    {
     "data": {
      "text/html": [
       "<div>\n",
       "<style>\n",
       "    .dataframe thead tr:only-child th {\n",
       "        text-align: right;\n",
       "    }\n",
       "\n",
       "    .dataframe thead th {\n",
       "        text-align: left;\n",
       "    }\n",
       "\n",
       "    .dataframe tbody tr th {\n",
       "        vertical-align: top;\n",
       "    }\n",
       "</style>\n",
       "<table border=\"1\" class=\"dataframe\">\n",
       "  <thead>\n",
       "    <tr style=\"text-align: right;\">\n",
       "      <th></th>\n",
       "      <th>ID</th>\n",
       "      <th>Show</th>\n",
       "      <th>Theatre</th>\n",
       "      <th>Gross</th>\n",
       "      <th>Potential</th>\n",
       "      <th>Rev%</th>\n",
       "      <th>GrossChange</th>\n",
       "      <th>Attendance</th>\n",
       "      <th>Capacity</th>\n",
       "      <th>Att%</th>\n",
       "      <th>...</th>\n",
       "      <th>TopTicket</th>\n",
       "      <th>Performances</th>\n",
       "      <th>Previews</th>\n",
       "      <th>Week</th>\n",
       "      <th>Month</th>\n",
       "      <th>Year</th>\n",
       "      <th>GrossPerShow</th>\n",
       "      <th>Mean</th>\n",
       "      <th>Std</th>\n",
       "      <th>Z</th>\n",
       "    </tr>\n",
       "  </thead>\n",
       "  <tbody>\n",
       "    <tr>\n",
       "      <th>5483</th>\n",
       "      <td>173</td>\n",
       "      <td>Hamilton</td>\n",
       "      <td>Richard Rodgers</td>\n",
       "      <td>3145636</td>\n",
       "      <td>2905344.0</td>\n",
       "      <td>1.08</td>\n",
       "      <td>310538.0</td>\n",
       "      <td>10755</td>\n",
       "      <td>10568</td>\n",
       "      <td>1.02</td>\n",
       "      <td>...</td>\n",
       "      <td>849.0</td>\n",
       "      <td>8</td>\n",
       "      <td>0</td>\n",
       "      <td>3/12/17</td>\n",
       "      <td>3</td>\n",
       "      <td>2017</td>\n",
       "      <td>393204.0</td>\n",
       "      <td>114968.0</td>\n",
       "      <td>70493.0</td>\n",
       "      <td>3.947002</td>\n",
       "    </tr>\n",
       "    <tr>\n",
       "      <th>5491</th>\n",
       "      <td>173</td>\n",
       "      <td>Hamilton</td>\n",
       "      <td>Richard Rodgers</td>\n",
       "      <td>3141642</td>\n",
       "      <td>2905344.0</td>\n",
       "      <td>1.08</td>\n",
       "      <td>354704.0</td>\n",
       "      <td>10754</td>\n",
       "      <td>10568</td>\n",
       "      <td>1.02</td>\n",
       "      <td>...</td>\n",
       "      <td>849.0</td>\n",
       "      <td>8</td>\n",
       "      <td>0</td>\n",
       "      <td>5/7/17</td>\n",
       "      <td>5</td>\n",
       "      <td>2017</td>\n",
       "      <td>392705.0</td>\n",
       "      <td>115657.0</td>\n",
       "      <td>74450.0</td>\n",
       "      <td>3.721263</td>\n",
       "    </tr>\n",
       "    <tr>\n",
       "      <th>5482</th>\n",
       "      <td>173</td>\n",
       "      <td>Hamilton</td>\n",
       "      <td>Richard Rodgers</td>\n",
       "      <td>2835098</td>\n",
       "      <td>2632208.0</td>\n",
       "      <td>1.08</td>\n",
       "      <td>-298316.0</td>\n",
       "      <td>10735</td>\n",
       "      <td>10568</td>\n",
       "      <td>1.02</td>\n",
       "      <td>...</td>\n",
       "      <td>849.0</td>\n",
       "      <td>8</td>\n",
       "      <td>0</td>\n",
       "      <td>3/5/17</td>\n",
       "      <td>3</td>\n",
       "      <td>2017</td>\n",
       "      <td>354387.0</td>\n",
       "      <td>110742.0</td>\n",
       "      <td>65475.0</td>\n",
       "      <td>3.721191</td>\n",
       "    </tr>\n",
       "    <tr>\n",
       "      <th>5478</th>\n",
       "      <td>173</td>\n",
       "      <td>Hamilton</td>\n",
       "      <td>Richard Rodgers</td>\n",
       "      <td>3214897</td>\n",
       "      <td>2905344.0</td>\n",
       "      <td>1.11</td>\n",
       "      <td>749528.0</td>\n",
       "      <td>10755</td>\n",
       "      <td>10568</td>\n",
       "      <td>1.02</td>\n",
       "      <td>...</td>\n",
       "      <td>849.0</td>\n",
       "      <td>8</td>\n",
       "      <td>0</td>\n",
       "      <td>2/5/17</td>\n",
       "      <td>2</td>\n",
       "      <td>2017</td>\n",
       "      <td>401862.0</td>\n",
       "      <td>121838.0</td>\n",
       "      <td>76633.0</td>\n",
       "      <td>3.654092</td>\n",
       "    </tr>\n",
       "    <tr>\n",
       "      <th>5493</th>\n",
       "      <td>173</td>\n",
       "      <td>Hamilton</td>\n",
       "      <td>Richard Rodgers</td>\n",
       "      <td>3133555</td>\n",
       "      <td>2905344.0</td>\n",
       "      <td>1.08</td>\n",
       "      <td>310373.0</td>\n",
       "      <td>10755</td>\n",
       "      <td>10568</td>\n",
       "      <td>1.02</td>\n",
       "      <td>...</td>\n",
       "      <td>849.0</td>\n",
       "      <td>8</td>\n",
       "      <td>0</td>\n",
       "      <td>5/21/17</td>\n",
       "      <td>5</td>\n",
       "      <td>2017</td>\n",
       "      <td>391694.0</td>\n",
       "      <td>122255.0</td>\n",
       "      <td>74202.0</td>\n",
       "      <td>3.631155</td>\n",
       "    </tr>\n",
       "  </tbody>\n",
       "</table>\n",
       "<p>5 rows × 22 columns</p>\n",
       "</div>"
      ],
      "text/plain": [
       "       ID       Show           Theatre    Gross  Potential  Rev%  GrossChange  \\\n",
       "5483  173  Hamilton   Richard Rodgers   3145636  2905344.0  1.08     310538.0   \n",
       "5491  173  Hamilton   Richard Rodgers   3141642  2905344.0  1.08     354704.0   \n",
       "5482  173  Hamilton   Richard Rodgers   2835098  2632208.0  1.08    -298316.0   \n",
       "5478  173  Hamilton   Richard Rodgers   3214897  2905344.0  1.11     749528.0   \n",
       "5493  173  Hamilton   Richard Rodgers   3133555  2905344.0  1.08     310373.0   \n",
       "\n",
       "      Attendance  Capacity  Att%    ...     TopTicket  Performances  Previews  \\\n",
       "5483       10755     10568  1.02    ...         849.0             8         0   \n",
       "5491       10754     10568  1.02    ...         849.0             8         0   \n",
       "5482       10735     10568  1.02    ...         849.0             8         0   \n",
       "5478       10755     10568  1.02    ...         849.0             8         0   \n",
       "5493       10755     10568  1.02    ...         849.0             8         0   \n",
       "\n",
       "         Week  Month  Year  GrossPerShow      Mean      Std         Z  \n",
       "5483  3/12/17      3  2017      393204.0  114968.0  70493.0  3.947002  \n",
       "5491   5/7/17      5  2017      392705.0  115657.0  74450.0  3.721263  \n",
       "5482   3/5/17      3  2017      354387.0  110742.0  65475.0  3.721191  \n",
       "5478   2/5/17      2  2017      401862.0  121838.0  76633.0  3.654092  \n",
       "5493  5/21/17      5  2017      391694.0  122255.0  74202.0  3.631155  \n",
       "\n",
       "[5 rows x 22 columns]"
      ]
     },
     "execution_count": 297,
     "metadata": {},
     "output_type": "execute_result"
    }
   ],
   "source": [
    "df.sort_values(by='Z', ascending=False).head()"
   ]
  },
  {
   "cell_type": "code",
   "execution_count": 298,
   "metadata": {},
   "outputs": [
    {
     "data": {
      "text/plain": [
       "0"
      ]
     },
     "execution_count": 298,
     "metadata": {},
     "output_type": "execute_result"
    }
   ],
   "source": [
    "df.Z.isnull().sum()"
   ]
  },
  {
   "cell_type": "markdown",
   "metadata": {},
   "source": [
    "#### Creating new dataframe with show performance summary"
   ]
  },
  {
   "cell_type": "code",
   "execution_count": 299,
   "metadata": {
    "collapsed": true
   },
   "outputs": [],
   "source": [
    "shows = df.iloc[:, 0:3]"
   ]
  },
  {
   "cell_type": "code",
   "execution_count": 300,
   "metadata": {
    "collapsed": true
   },
   "outputs": [],
   "source": [
    "shows.drop_duplicates(subset='ID', keep='first', inplace=True)"
   ]
  },
  {
   "cell_type": "code",
   "execution_count": 301,
   "metadata": {},
   "outputs": [
    {
     "data": {
      "text/plain": [
       "(473, 3)"
      ]
     },
     "execution_count": 301,
     "metadata": {},
     "output_type": "execute_result"
    }
   ],
   "source": [
    "shows.shape"
   ]
  },
  {
   "cell_type": "markdown",
   "metadata": {},
   "source": [
    "#### Summing all records per show for entire 2006-2017 seasons:  Gross Revenue, Potential Revenue, Capacity, Attendance, Performance Count, Number of Weeks Running"
   ]
  },
  {
   "cell_type": "code",
   "execution_count": 302,
   "metadata": {
    "collapsed": true
   },
   "outputs": [],
   "source": [
    "shows = shows.sort_values(by='ID')"
   ]
  },
  {
   "cell_type": "code",
   "execution_count": 303,
   "metadata": {
    "collapsed": true
   },
   "outputs": [],
   "source": [
    "Gross = []\n",
    "\n",
    "for i in range(1, (shows.shape[0] + 1)):\n",
    "    x = df.loc[df['ID'] == i, :]\n",
    "    y = sum(x['Gross'])\n",
    "    Gross.append(y)\n",
    "\n",
    "shows['Gross'] = Gross"
   ]
  },
  {
   "cell_type": "code",
   "execution_count": 304,
   "metadata": {
    "collapsed": true
   },
   "outputs": [],
   "source": [
    "Potential = []\n",
    "\n",
    "for i in range(1, (shows.shape[0] + 1)):\n",
    "    x = df.loc[df['ID'] == i, :]\n",
    "    y = sum(x['Potential']).astype(float)\n",
    "    Potential.append(y)\n",
    "\n",
    "shows['Potential'] = Potential"
   ]
  },
  {
   "cell_type": "code",
   "execution_count": 305,
   "metadata": {
    "collapsed": true
   },
   "outputs": [],
   "source": [
    "Attendance = []\n",
    "\n",
    "for i in range(1, (shows.shape[0] + 1)):\n",
    "    x = df.loc[df['ID'] == i, :]\n",
    "    y = sum(x['Attendance']).astype(float)\n",
    "    Attendance.append(y)\n",
    "\n",
    "shows['Attendance'] = Attendance"
   ]
  },
  {
   "cell_type": "code",
   "execution_count": 306,
   "metadata": {
    "collapsed": true
   },
   "outputs": [],
   "source": [
    "Capacity = []\n",
    "\n",
    "for i in range (1, (shows.shape[0]+1)):\n",
    "    x = df.loc[df['ID'] == i, :]\n",
    "    y = sum(x['Capacity']).astype(float)\n",
    "    Capacity.append(y)\n",
    "\n",
    "shows['Capacity'] = Capacity"
   ]
  },
  {
   "cell_type": "code",
   "execution_count": 307,
   "metadata": {
    "collapsed": true
   },
   "outputs": [],
   "source": [
    "Weeks = []\n",
    "\n",
    "for i in range (1, (shows.shape[0]+1)):\n",
    "    x = df.loc[df['ID'] == i, :].shape[0]\n",
    "    Weeks.append(x)\n",
    "\n",
    "shows['Weeks'] = Weeks"
   ]
  },
  {
   "cell_type": "code",
   "execution_count": 308,
   "metadata": {
    "collapsed": true
   },
   "outputs": [],
   "source": [
    "Performances = []\n",
    "\n",
    "for i in range (1, (shows.shape[0]+1)):\n",
    "    x = df.loc[df['ID'] == i, :]\n",
    "    y = sum(x['Performances'])\n",
    "    z = sum(x['Previews'])\n",
    "    total = y + z\n",
    "    Performances.append(total)\n",
    "\n",
    "shows['Performances'] = Performances"
   ]
  },
  {
   "cell_type": "code",
   "execution_count": 309,
   "metadata": {
    "collapsed": true
   },
   "outputs": [],
   "source": [
    "AvgTicket = []\n",
    "\n",
    "for i in range (1, (shows.shape[0]+1)):\n",
    "    x = df.loc[df['ID'] == i, :]\n",
    "    y = sum(x['AvgTicket']).astype(float)\n",
    "    z = x.shape[0]\n",
    "    total = round((y /z), 0)\n",
    "    AvgTicket.append(total)\n",
    "\n",
    "shows['AvgTicket'] = AvgTicket"
   ]
  },
  {
   "cell_type": "code",
   "execution_count": 310,
   "metadata": {
    "collapsed": true
   },
   "outputs": [],
   "source": [
    "TopTicket = []\n",
    "\n",
    "for i in range (1, (shows.shape[0]+1)):\n",
    "    x = df.loc[df['ID'] == i, :]\n",
    "    y = sum(x['TopTicket']).astype(float)\n",
    "    z = x.shape[0]\n",
    "    total = round((y /z), 0)\n",
    "    TopTicket.append(total)\n",
    "\n",
    "shows['TopTicket'] = TopTicket"
   ]
  },
  {
   "cell_type": "code",
   "execution_count": 311,
   "metadata": {
    "collapsed": true
   },
   "outputs": [],
   "source": [
    "ZScore = []\n",
    "\n",
    "for i in range (1, (shows.shape[0]+1)):\n",
    "    x = df.loc[df['ID'] == i, :]\n",
    "    y = sum(x['Z']).astype(float)\n",
    "    z = x.shape[0]\n",
    "    total = (y /z)\n",
    "    ZScore.append(total)\n",
    "\n",
    "shows['ZScore'] = ZScore"
   ]
  },
  {
   "cell_type": "code",
   "execution_count": 312,
   "metadata": {
    "collapsed": true
   },
   "outputs": [],
   "source": [
    "shows['ZScore'] = shows['ZScore'] + shows['Performances']/1000"
   ]
  },
  {
   "cell_type": "code",
   "execution_count": 313,
   "metadata": {
    "scrolled": false
   },
   "outputs": [
    {
     "data": {
      "text/html": [
       "<div>\n",
       "<style>\n",
       "    .dataframe thead tr:only-child th {\n",
       "        text-align: right;\n",
       "    }\n",
       "\n",
       "    .dataframe thead th {\n",
       "        text-align: left;\n",
       "    }\n",
       "\n",
       "    .dataframe tbody tr th {\n",
       "        vertical-align: top;\n",
       "    }\n",
       "</style>\n",
       "<table border=\"1\" class=\"dataframe\">\n",
       "  <thead>\n",
       "    <tr style=\"text-align: right;\">\n",
       "      <th></th>\n",
       "      <th>ID</th>\n",
       "      <th>Show</th>\n",
       "      <th>Theatre</th>\n",
       "      <th>Gross</th>\n",
       "      <th>Potential</th>\n",
       "      <th>Attendance</th>\n",
       "      <th>Capacity</th>\n",
       "      <th>Weeks</th>\n",
       "      <th>Performances</th>\n",
       "      <th>AvgTicket</th>\n",
       "      <th>TopTicket</th>\n",
       "      <th>ZScore</th>\n",
       "    </tr>\n",
       "  </thead>\n",
       "  <tbody>\n",
       "    <tr>\n",
       "      <th>151</th>\n",
       "      <td>1</td>\n",
       "      <td>13</td>\n",
       "      <td>Bernard B. Jacobs</td>\n",
       "      <td>4436369</td>\n",
       "      <td>12660172.0</td>\n",
       "      <td>72907.0</td>\n",
       "      <td>132334.0</td>\n",
       "      <td>16</td>\n",
       "      <td>127</td>\n",
       "      <td>59.0</td>\n",
       "      <td>198.0</td>\n",
       "      <td>-0.928406</td>\n",
       "    </tr>\n",
       "    <tr>\n",
       "      <th>183</th>\n",
       "      <td>2</td>\n",
       "      <td>1984</td>\n",
       "      <td>Hudson</td>\n",
       "      <td>6859821</td>\n",
       "      <td>15831077.0</td>\n",
       "      <td>112232.0</td>\n",
       "      <td>158110.0</td>\n",
       "      <td>21</td>\n",
       "      <td>163</td>\n",
       "      <td>61.0</td>\n",
       "      <td>249.0</td>\n",
       "      <td>-0.871139</td>\n",
       "    </tr>\n",
       "    <tr>\n",
       "      <th>0</th>\n",
       "      <td>3</td>\n",
       "      <td>[title of show]</td>\n",
       "      <td>Lyceum</td>\n",
       "      <td>2188129</td>\n",
       "      <td>7490098.0</td>\n",
       "      <td>47894.0</td>\n",
       "      <td>105134.0</td>\n",
       "      <td>15</td>\n",
       "      <td>115</td>\n",
       "      <td>46.0</td>\n",
       "      <td>200.0</td>\n",
       "      <td>-1.315035</td>\n",
       "    </tr>\n",
       "    <tr>\n",
       "      <th>167</th>\n",
       "      <td>4</td>\n",
       "      <td>110 in the Shade</td>\n",
       "      <td>Studio 54</td>\n",
       "      <td>5169314</td>\n",
       "      <td>9099805.0</td>\n",
       "      <td>102030.0</td>\n",
       "      <td>120516.0</td>\n",
       "      <td>16</td>\n",
       "      <td>121</td>\n",
       "      <td>51.0</td>\n",
       "      <td>111.0</td>\n",
       "      <td>-0.678704</td>\n",
       "    </tr>\n",
       "    <tr>\n",
       "      <th>118</th>\n",
       "      <td>5</td>\n",
       "      <td>33 Variations</td>\n",
       "      <td>Eugene O'Neill</td>\n",
       "      <td>4380302</td>\n",
       "      <td>12397897.0</td>\n",
       "      <td>70012.0</td>\n",
       "      <td>123216.0</td>\n",
       "      <td>15</td>\n",
       "      <td>116</td>\n",
       "      <td>63.0</td>\n",
       "      <td>319.0</td>\n",
       "      <td>-0.688459</td>\n",
       "    </tr>\n",
       "  </tbody>\n",
       "</table>\n",
       "</div>"
      ],
      "text/plain": [
       "     ID              Show             Theatre    Gross   Potential  \\\n",
       "151   1                13  Bernard B. Jacobs   4436369  12660172.0   \n",
       "183   2              1984             Hudson   6859821  15831077.0   \n",
       "0     3  [title of show]              Lyceum   2188129   7490098.0   \n",
       "167   4  110 in the Shade           Studio 54  5169314   9099805.0   \n",
       "118   5     33 Variations     Eugene O'Neill   4380302  12397897.0   \n",
       "\n",
       "     Attendance  Capacity  Weeks  Performances  AvgTicket  TopTicket    ZScore  \n",
       "151     72907.0  132334.0     16           127       59.0      198.0 -0.928406  \n",
       "183    112232.0  158110.0     21           163       61.0      249.0 -0.871139  \n",
       "0       47894.0  105134.0     15           115       46.0      200.0 -1.315035  \n",
       "167    102030.0  120516.0     16           121       51.0      111.0 -0.678704  \n",
       "118     70012.0  123216.0     15           116       63.0      319.0 -0.688459  "
      ]
     },
     "execution_count": 313,
     "metadata": {},
     "output_type": "execute_result"
    }
   ],
   "source": [
    "shows.head()"
   ]
  },
  {
   "cell_type": "code",
   "execution_count": 314,
   "metadata": {
    "scrolled": true
   },
   "outputs": [
    {
     "data": {
      "text/plain": [
       "<matplotlib.text.Text at 0x111b19828>"
      ]
     },
     "execution_count": 314,
     "metadata": {},
     "output_type": "execute_result"
    },
    {
     "data": {
      "image/png": "[encoded data removed]",
      "text/plain": [
       "<matplotlib.figure.Figure at 0x111f6a860>"
      ]
     },
     "metadata": {
      "image/png": {
       "height": 337,
       "width": 875
      }
     },
     "output_type": "display_data"
    }
   ],
   "source": [
    "fig, ax = plt.subplots(figsize=[15,5])\n",
    "ax.patch.set_facecolor('white')\n",
    "plt.hist(shows.ZScore, bins=8, color='black')\n",
    "plt.title('Average Performance Compared to Competition', size=15)\n",
    "plt.plot((0,0), (0,225), linewidth= 5, color='limegreen')\n",
    "plt.xlabel('Average ZScore', size=15)"
   ]
  },
  {
   "cell_type": "code",
   "execution_count": 256,
   "metadata": {
    "collapsed": true,
    "scrolled": false
   },
   "outputs": [],
   "source": [
    "# shows.sort_values(by='Performances', ascending=False)"
   ]
  },
  {
   "cell_type": "code",
   "execution_count": 257,
   "metadata": {
    "collapsed": true,
    "scrolled": true
   },
   "outputs": [],
   "source": [
    "# shows.sort_values(by='Performances', ascending=False).head(50)"
   ]
  },
  {
   "cell_type": "code",
   "execution_count": 315,
   "metadata": {
    "scrolled": true
   },
   "outputs": [
    {
     "data": {
      "text/html": [
       "<div>\n",
       "<style>\n",
       "    .dataframe thead tr:only-child th {\n",
       "        text-align: right;\n",
       "    }\n",
       "\n",
       "    .dataframe thead th {\n",
       "        text-align: left;\n",
       "    }\n",
       "\n",
       "    .dataframe tbody tr th {\n",
       "        vertical-align: top;\n",
       "    }\n",
       "</style>\n",
       "<table border=\"1\" class=\"dataframe\">\n",
       "  <thead>\n",
       "    <tr style=\"text-align: right;\">\n",
       "      <th></th>\n",
       "      <th>ID</th>\n",
       "      <th>Show</th>\n",
       "      <th>Theatre</th>\n",
       "      <th>Gross</th>\n",
       "      <th>Potential</th>\n",
       "      <th>Attendance</th>\n",
       "      <th>Capacity</th>\n",
       "      <th>Weeks</th>\n",
       "      <th>Performances</th>\n",
       "      <th>AvgTicket</th>\n",
       "      <th>TopTicket</th>\n",
       "      <th>ZScore</th>\n",
       "    </tr>\n",
       "  </thead>\n",
       "  <tbody>\n",
       "    <tr>\n",
       "      <th>17236</th>\n",
       "      <td>466</td>\n",
       "      <td>Wicked</td>\n",
       "      <td>George Gershwin</td>\n",
       "      <td>1021350076</td>\n",
       "      <td>9.789495e+08</td>\n",
       "      <td>8831368.0</td>\n",
       "      <td>9081774.0</td>\n",
       "      <td>620</td>\n",
       "      <td>4975</td>\n",
       "      <td>115.0</td>\n",
       "      <td>284.0</td>\n",
       "      <td>7.125361</td>\n",
       "    </tr>\n",
       "    <tr>\n",
       "      <th>14530</th>\n",
       "      <td>394</td>\n",
       "      <td>The Lion King</td>\n",
       "      <td>New Amsterdam</td>\n",
       "      <td>995755751</td>\n",
       "      <td>1.032738e+09</td>\n",
       "      <td>8056576.0</td>\n",
       "      <td>8328814.0</td>\n",
       "      <td>620</td>\n",
       "      <td>4961</td>\n",
       "      <td>122.0</td>\n",
       "      <td>225.0</td>\n",
       "      <td>6.935523</td>\n",
       "    </tr>\n",
       "    <tr>\n",
       "      <th>15509</th>\n",
       "      <td>414</td>\n",
       "      <td>The Phantom of the Opera</td>\n",
       "      <td>Majestic</td>\n",
       "      <td>536352337</td>\n",
       "      <td>8.211925e+08</td>\n",
       "      <td>6750502.0</td>\n",
       "      <td>7963076.0</td>\n",
       "      <td>621</td>\n",
       "      <td>4954</td>\n",
       "      <td>79.0</td>\n",
       "      <td>201.0</td>\n",
       "      <td>5.195972</td>\n",
       "    </tr>\n",
       "    <tr>\n",
       "      <th>2701</th>\n",
       "      <td>90</td>\n",
       "      <td>Chicago</td>\n",
       "      <td>Ambassador</td>\n",
       "      <td>343607804</td>\n",
       "      <td>5.837159e+08</td>\n",
       "      <td>4306302.0</td>\n",
       "      <td>5348160.0</td>\n",
       "      <td>621</td>\n",
       "      <td>4952</td>\n",
       "      <td>79.0</td>\n",
       "      <td>204.0</td>\n",
       "      <td>4.452809</td>\n",
       "    </tr>\n",
       "    <tr>\n",
       "      <th>6308</th>\n",
       "      <td>205</td>\n",
       "      <td>Jersey Boys</td>\n",
       "      <td>August Wilson</td>\n",
       "      <td>552610115</td>\n",
       "      <td>6.237156e+08</td>\n",
       "      <td>5062764.0</td>\n",
       "      <td>5621176.0</td>\n",
       "      <td>575</td>\n",
       "      <td>4585</td>\n",
       "      <td>108.0</td>\n",
       "      <td>274.0</td>\n",
       "      <td>5.224525</td>\n",
       "    </tr>\n",
       "  </tbody>\n",
       "</table>\n",
       "</div>"
      ],
      "text/plain": [
       "        ID                       Show           Theatre       Gross  \\\n",
       "17236  466                    Wicked   George Gershwin   1021350076   \n",
       "14530  394             The Lion King     New Amsterdam    995755751   \n",
       "15509  414  The Phantom of the Opera          Majestic    536352337   \n",
       "2701    90                   Chicago        Ambassador    343607804   \n",
       "6308   205               Jersey Boys     August Wilson    552610115   \n",
       "\n",
       "          Potential  Attendance   Capacity  Weeks  Performances  AvgTicket  \\\n",
       "17236  9.789495e+08   8831368.0  9081774.0    620          4975      115.0   \n",
       "14530  1.032738e+09   8056576.0  8328814.0    620          4961      122.0   \n",
       "15509  8.211925e+08   6750502.0  7963076.0    621          4954       79.0   \n",
       "2701   5.837159e+08   4306302.0  5348160.0    621          4952       79.0   \n",
       "6308   6.237156e+08   5062764.0  5621176.0    575          4585      108.0   \n",
       "\n",
       "       TopTicket    ZScore  \n",
       "17236      284.0  7.125361  \n",
       "14530      225.0  6.935523  \n",
       "15509      201.0  5.195972  \n",
       "2701       204.0  4.452809  \n",
       "6308       274.0  5.224525  "
      ]
     },
     "execution_count": 315,
     "metadata": {},
     "output_type": "execute_result"
    }
   ],
   "source": [
    "shows.sort_values(by='Performances', ascending=False).head(5)"
   ]
  },
  {
   "cell_type": "markdown",
   "metadata": {},
   "source": [
    "#### What is the breakdown on shows scoring above 0 and below?"
   ]
  },
  {
   "cell_type": "code",
   "execution_count": 316,
   "metadata": {
    "scrolled": false
   },
   "outputs": [
    {
     "name": "stdout",
     "output_type": "stream",
     "text": [
      "Percentage of Hit Shows: 0.2854122621564482\n"
     ]
    }
   ],
   "source": [
    "flops = shows.loc[shows.ZScore >= 0,:].shape[0]/ shows.shape[0]\n",
    "print('Percentage of Hit Shows: {}'.format(flops))"
   ]
  },
  {
   "cell_type": "code",
   "execution_count": 317,
   "metadata": {
    "scrolled": true
   },
   "outputs": [
    {
     "name": "stdout",
     "output_type": "stream",
     "text": [
      "Percentage of Flop Shows: 0.7145877378435518\n"
     ]
    }
   ],
   "source": [
    "hits = shows.loc[shows.ZScore < 0,:].shape[0]/ shows.shape[0]\n",
    "print('Percentage of Flop Shows: {}'.format(hits))"
   ]
  },
  {
   "cell_type": "markdown",
   "metadata": {},
   "source": [
    "#### Performance Metrics Added to Data:"
   ]
  },
  {
   "cell_type": "code",
   "execution_count": 318,
   "metadata": {
    "collapsed": true
   },
   "outputs": [],
   "source": [
    "shows['G/P'] = round((shows['Gross'] / shows['Potential']), 2)"
   ]
  },
  {
   "cell_type": "code",
   "execution_count": 319,
   "metadata": {
    "collapsed": true
   },
   "outputs": [],
   "source": [
    "shows['A/C'] = round((shows['Attendance'] / shows['Capacity']), 2)"
   ]
  },
  {
   "cell_type": "markdown",
   "metadata": {},
   "source": [
    "#### Assigning variable feature denoting \"Hits\" as 1 and \"Flops\" as 0"
   ]
  },
  {
   "cell_type": "code",
   "execution_count": 320,
   "metadata": {
    "collapsed": true
   },
   "outputs": [],
   "source": [
    "shows['Category'] = shows['ZScore'].map(lambda x: 0 if x < 0 else 1)"
   ]
  },
  {
   "cell_type": "code",
   "execution_count": 321,
   "metadata": {
    "scrolled": true
   },
   "outputs": [
    {
     "data": {
      "text/plain": [
       "0    338\n",
       "1    135\n",
       "Name: Category, dtype: int64"
      ]
     },
     "execution_count": 321,
     "metadata": {},
     "output_type": "execute_result"
    }
   ],
   "source": [
    "shows.Category.value_counts()"
   ]
  },
  {
   "cell_type": "markdown",
   "metadata": {},
   "source": [
    "#### Upload Additional Info"
   ]
  },
  {
   "cell_type": "code",
   "execution_count": 322,
   "metadata": {},
   "outputs": [
    {
     "data": {
      "text/plain": [
       "(473, 15)"
      ]
     },
     "execution_count": 322,
     "metadata": {},
     "output_type": "execute_result"
    }
   ],
   "source": [
    "shows.shape"
   ]
  },
  {
   "cell_type": "code",
   "execution_count": 323,
   "metadata": {
    "collapsed": true
   },
   "outputs": [],
   "source": [
    "book = pd.read_csv('BroadwayBook.csv')"
   ]
  },
  {
   "cell_type": "code",
   "execution_count": 324,
   "metadata": {
    "collapsed": true
   },
   "outputs": [],
   "source": [
    "book = book.set_index('ID')"
   ]
  },
  {
   "cell_type": "code",
   "execution_count": 325,
   "metadata": {
    "collapsed": true
   },
   "outputs": [],
   "source": [
    "book = book.drop(['Show'], axis=1)"
   ]
  },
  {
   "cell_type": "code",
   "execution_count": 326,
   "metadata": {
    "collapsed": true
   },
   "outputs": [],
   "source": [
    "shows = shows.set_index('ID')"
   ]
  },
  {
   "cell_type": "code",
   "execution_count": 327,
   "metadata": {
    "collapsed": true
   },
   "outputs": [],
   "source": [
    "result = pd.concat([shows, book], axis=1, join='inner')"
   ]
  },
  {
   "cell_type": "markdown",
   "metadata": {},
   "source": [
    "#### Stats on Hits and Flops"
   ]
  },
  {
   "cell_type": "code",
   "execution_count": 328,
   "metadata": {
    "collapsed": true
   },
   "outputs": [],
   "source": [
    "hits = result.loc[shows.Category == 1, :]\n",
    "flops = result.loc[shows.Category == 0, :]"
   ]
  },
  {
   "cell_type": "code",
   "execution_count": 329,
   "metadata": {
    "scrolled": true
   },
   "outputs": [
    {
     "name": "stdout",
     "output_type": "stream",
     "text": [
      "Average Ticket Price: 99.0\n",
      "Range Avg Ticket Prices: 59.0 - 213.0\n",
      "\n",
      "Average Ticket Price: 267.0\n",
      "Range Avg Ticket Prices: 104.0 - 749.0\n",
      "\n",
      "Average Runtime: 91.0 Weeks\n",
      "Average Runtime: 717.0 Performances\n",
      "Range Runtime: 1 - 621 Weeks\n",
      "\n",
      "Average Cast Size: 26.0\n"
     ]
    }
   ],
   "source": [
    "def stats(category):\n",
    "    avg_tix= round((sum(category.AvgTicket)/category.shape[0]), 0)\n",
    "    print('Average Ticket Price: {}'.format(avg_tix))\n",
    "    min_tix= round((min(category.AvgTicket)), 0)\n",
    "    max_tix= round((max(category.AvgTicket)), 0)\n",
    "    print('Range Avg Ticket Prices: {} - {}'.format(min_tix, max_tix))\n",
    "    print('')\n",
    "    \n",
    "    top_tix= round((sum(category.TopTicket)/category.shape[0]), 0)\n",
    "    print('Average Ticket Price: {}'.format(top_tix))\n",
    "    min_top= round((min(category.TopTicket)), 0)\n",
    "    max_top= round((max(category.TopTicket)), 0)\n",
    "    print('Range Avg Ticket Prices: {} - {}'.format(min_top, max_top))\n",
    "    print('')\n",
    "    \n",
    "    \n",
    "    avg_run= round((sum(category.Weeks)/category.shape[0]), 0)\n",
    "    print('Average Runtime: {} Weeks'.format(avg_run))\n",
    "    avg_performs= round((sum(category.Performances)/category.shape[0]),0)\n",
    "    print('Average Runtime: {} Performances'.format(avg_performs))\n",
    "    total_performs= round((sum(category.Npreform)/category.shape[0]), 0)\n",
    "    min_run= round((min(category.Weeks)), 0)\n",
    "    max_run= round((max(category.Weeks)), 0)\n",
    "    print('Range Runtime: {} - {} Weeks'.format(min_run, max_run))\n",
    "    print('')\n",
    "    avg_cast= round((sum(category.Cast_Size)/category.shape[0]), 0)\n",
    "    print('Average Cast Size: {}'.format(avg_cast))\n",
    "stats(hits)"
   ]
  },
  {
   "cell_type": "code",
   "execution_count": 330,
   "metadata": {
    "scrolled": false
   },
   "outputs": [
    {
     "name": "stdout",
     "output_type": "stream",
     "text": [
      "Average Ticket Price: 65.0\n",
      "Range Avg Ticket Prices: 26.0 - 159.0\n",
      "\n",
      "Average Ticket Price: 182.0\n",
      "Range Avg Ticket Prices: 42.0 - 368.0\n",
      "\n",
      "Average Runtime: 17.0 Weeks\n",
      "Average Runtime: 134.0 Performances\n",
      "Range Runtime: 1 - 108 Weeks\n",
      "\n",
      "Average Cast Size: 14.0\n"
     ]
    }
   ],
   "source": [
    "stats(flops)"
   ]
  },
  {
   "cell_type": "code",
   "execution_count": 331,
   "metadata": {
    "scrolled": false
   },
   "outputs": [
    {
     "name": "stdout",
     "output_type": "stream",
     "text": [
      "OM    69\n",
      "RM    29\n",
      "RP    20\n",
      "OP    17\n",
      "Name: Coder, dtype: int64\n",
      " Comedy    45\n",
      " Drama     32\n",
      "Name: Genre, dtype: int64\n",
      "4.0    41\n",
      "3.0    25\n",
      "Name: OpenMonth, dtype: int64\n",
      "2015.0    14\n",
      "2013.0    12\n",
      "Name: OpenYear, dtype: int64\n",
      "1.0    43\n",
      "6.0    20\n",
      "Name: CloseMonth, dtype: int64\n",
      "2015.0    14\n",
      "2009.0    14\n",
      "Name: CloseYear, dtype: int64\n"
     ]
    }
   ],
   "source": [
    "def more(color):\n",
    "    print(color.Coder.value_counts())\n",
    "#     print(color.Theatre.value_counts().head(2))\n",
    "    print(color.Genre.value_counts().head(2))\n",
    "    print(color.OpenMonth.value_counts().head(2))\n",
    "    print(color.OpenYear.value_counts().head(2))\n",
    "    print(color.CloseMonth.value_counts().head(2))\n",
    "    print(color.CloseYear.value_counts().head(2))\n",
    "\n",
    "more(hits)"
   ]
  },
  {
   "cell_type": "code",
   "execution_count": 332,
   "metadata": {},
   "outputs": [
    {
     "name": "stdout",
     "output_type": "stream",
     "text": [
      "0.5149253731343284\n",
      "0.7313432835820896\n"
     ]
    }
   ],
   "source": [
    "print((69)/134)\n",
    "print((69+29)/ 134)"
   ]
  },
  {
   "cell_type": "code",
   "execution_count": 333,
   "metadata": {
    "scrolled": true
   },
   "outputs": [
    {
     "name": "stdout",
     "output_type": "stream",
     "text": [
      "OP    142\n",
      "RP     90\n",
      "OM     75\n",
      "RM     27\n",
      "Name: Coder, dtype: int64\n",
      " Drama     107\n",
      " Comedy     96\n",
      "Name: Genre, dtype: int64\n",
      "4.0     94\n",
      "10.0    60\n",
      "Name: OpenMonth, dtype: int64\n",
      "2011.0    30\n",
      "2010.0    30\n",
      "Name: OpenYear, dtype: int64\n",
      "1.0    57\n",
      "6.0    47\n",
      "Name: CloseMonth, dtype: int64\n",
      "2011.0    34\n",
      "2012.0    31\n",
      "Name: CloseYear, dtype: int64\n"
     ]
    }
   ],
   "source": [
    "more(flops)"
   ]
  },
  {
   "cell_type": "code",
   "execution_count": 334,
   "metadata": {
    "scrolled": true
   },
   "outputs": [
    {
     "name": "stdout",
     "output_type": "stream",
     "text": [
      "0.42136498516320475\n",
      "0.6884272997032641\n"
     ]
    }
   ],
   "source": [
    "print(142/337)\n",
    "print((142+90)/337)"
   ]
  },
  {
   "cell_type": "code",
   "execution_count": 335,
   "metadata": {},
   "outputs": [
    {
     "data": {
      "text/plain": [
       "(469, 30)"
      ]
     },
     "execution_count": 335,
     "metadata": {},
     "output_type": "execute_result"
    }
   ],
   "source": [
    "result.shape"
   ]
  },
  {
   "cell_type": "code",
   "execution_count": 336,
   "metadata": {},
   "outputs": [
    {
     "data": {
      "text/html": [
       "<div>\n",
       "<style>\n",
       "    .dataframe thead tr:only-child th {\n",
       "        text-align: right;\n",
       "    }\n",
       "\n",
       "    .dataframe thead th {\n",
       "        text-align: left;\n",
       "    }\n",
       "\n",
       "    .dataframe tbody tr th {\n",
       "        vertical-align: top;\n",
       "    }\n",
       "</style>\n",
       "<table border=\"1\" class=\"dataframe\">\n",
       "  <thead>\n",
       "    <tr style=\"text-align: right;\">\n",
       "      <th></th>\n",
       "      <th>Show</th>\n",
       "      <th>Theatre</th>\n",
       "      <th>Gross</th>\n",
       "      <th>Potential</th>\n",
       "      <th>Attendance</th>\n",
       "      <th>Capacity</th>\n",
       "      <th>Weeks</th>\n",
       "      <th>Performances</th>\n",
       "      <th>AvgTicket</th>\n",
       "      <th>TopTicket</th>\n",
       "      <th>...</th>\n",
       "      <th>CloseYear</th>\n",
       "      <th>Npreform</th>\n",
       "      <th>Coder</th>\n",
       "      <th>Cast_Size</th>\n",
       "      <th>Theatre</th>\n",
       "      <th>Capacity</th>\n",
       "      <th>Street</th>\n",
       "      <th>ProdCredits</th>\n",
       "      <th>Special</th>\n",
       "      <th>Organizer</th>\n",
       "    </tr>\n",
       "    <tr>\n",
       "      <th>ID</th>\n",
       "      <th></th>\n",
       "      <th></th>\n",
       "      <th></th>\n",
       "      <th></th>\n",
       "      <th></th>\n",
       "      <th></th>\n",
       "      <th></th>\n",
       "      <th></th>\n",
       "      <th></th>\n",
       "      <th></th>\n",
       "      <th></th>\n",
       "      <th></th>\n",
       "      <th></th>\n",
       "      <th></th>\n",
       "      <th></th>\n",
       "      <th></th>\n",
       "      <th></th>\n",
       "      <th></th>\n",
       "      <th></th>\n",
       "      <th></th>\n",
       "      <th></th>\n",
       "    </tr>\n",
       "  </thead>\n",
       "  <tbody>\n",
       "    <tr>\n",
       "      <th>1.0</th>\n",
       "      <td>13</td>\n",
       "      <td>Bernard B. Jacobs</td>\n",
       "      <td>4436369</td>\n",
       "      <td>12660172.0</td>\n",
       "      <td>72907.0</td>\n",
       "      <td>132334.0</td>\n",
       "      <td>16</td>\n",
       "      <td>127</td>\n",
       "      <td>59.0</td>\n",
       "      <td>198.0</td>\n",
       "      <td>...</td>\n",
       "      <td>2009.0</td>\n",
       "      <td>105.0</td>\n",
       "      <td>OM</td>\n",
       "      <td>19.0</td>\n",
       "      <td>Bernard B. Jacobs</td>\n",
       "      <td>1078.0</td>\n",
       "      <td>45.0</td>\n",
       "      <td>11.0</td>\n",
       "      <td>NaN</td>\n",
       "      <td>Shubert</td>\n",
       "    </tr>\n",
       "    <tr>\n",
       "      <th>2.0</th>\n",
       "      <td>1984</td>\n",
       "      <td>Hudson</td>\n",
       "      <td>6859821</td>\n",
       "      <td>15831077.0</td>\n",
       "      <td>112232.0</td>\n",
       "      <td>158110.0</td>\n",
       "      <td>21</td>\n",
       "      <td>163</td>\n",
       "      <td>61.0</td>\n",
       "      <td>249.0</td>\n",
       "      <td>...</td>\n",
       "      <td>2017.0</td>\n",
       "      <td>125.0</td>\n",
       "      <td>OP</td>\n",
       "      <td>15.0</td>\n",
       "      <td>Hudson</td>\n",
       "      <td>970.0</td>\n",
       "      <td>44.0</td>\n",
       "      <td>5.0</td>\n",
       "      <td>NaN</td>\n",
       "      <td>Ambassador</td>\n",
       "    </tr>\n",
       "    <tr>\n",
       "      <th>3.0</th>\n",
       "      <td>[title of show]</td>\n",
       "      <td>Lyceum</td>\n",
       "      <td>2188129</td>\n",
       "      <td>7490098.0</td>\n",
       "      <td>47894.0</td>\n",
       "      <td>105134.0</td>\n",
       "      <td>15</td>\n",
       "      <td>115</td>\n",
       "      <td>46.0</td>\n",
       "      <td>200.0</td>\n",
       "      <td>...</td>\n",
       "      <td>2008.0</td>\n",
       "      <td>102.0</td>\n",
       "      <td>OM</td>\n",
       "      <td>6.0</td>\n",
       "      <td>Lyceum</td>\n",
       "      <td>922.0</td>\n",
       "      <td>45.0</td>\n",
       "      <td>9.0</td>\n",
       "      <td>NaN</td>\n",
       "      <td>Shubert</td>\n",
       "    </tr>\n",
       "    <tr>\n",
       "      <th>4.0</th>\n",
       "      <td>110 in the Shade</td>\n",
       "      <td>Studio 54</td>\n",
       "      <td>5169314</td>\n",
       "      <td>9099805.0</td>\n",
       "      <td>102030.0</td>\n",
       "      <td>120516.0</td>\n",
       "      <td>16</td>\n",
       "      <td>121</td>\n",
       "      <td>51.0</td>\n",
       "      <td>111.0</td>\n",
       "      <td>...</td>\n",
       "      <td>2007.0</td>\n",
       "      <td>94.0</td>\n",
       "      <td>RM</td>\n",
       "      <td>17.0</td>\n",
       "      <td>Studio 54</td>\n",
       "      <td>1006.0</td>\n",
       "      <td>54.0</td>\n",
       "      <td>20.0</td>\n",
       "      <td>NaN</td>\n",
       "      <td>Roundabout</td>\n",
       "    </tr>\n",
       "    <tr>\n",
       "      <th>5.0</th>\n",
       "      <td>33 Variations</td>\n",
       "      <td>Eugene O'Neill</td>\n",
       "      <td>4380302</td>\n",
       "      <td>12397897.0</td>\n",
       "      <td>70012.0</td>\n",
       "      <td>123216.0</td>\n",
       "      <td>15</td>\n",
       "      <td>116</td>\n",
       "      <td>63.0</td>\n",
       "      <td>319.0</td>\n",
       "      <td>...</td>\n",
       "      <td>2009.0</td>\n",
       "      <td>85.0</td>\n",
       "      <td>OP</td>\n",
       "      <td>12.0</td>\n",
       "      <td>Eugene O'Neill</td>\n",
       "      <td>1066.0</td>\n",
       "      <td>49.0</td>\n",
       "      <td>5.0</td>\n",
       "      <td>NaN</td>\n",
       "      <td>Jujamcyn</td>\n",
       "    </tr>\n",
       "  </tbody>\n",
       "</table>\n",
       "<p>5 rows × 30 columns</p>\n",
       "</div>"
      ],
      "text/plain": [
       "                 Show             Theatre    Gross   Potential  Attendance  \\\n",
       "ID                                                                           \n",
       "1.0                13  Bernard B. Jacobs   4436369  12660172.0     72907.0   \n",
       "2.0              1984             Hudson   6859821  15831077.0    112232.0   \n",
       "3.0  [title of show]              Lyceum   2188129   7490098.0     47894.0   \n",
       "4.0  110 in the Shade           Studio 54  5169314   9099805.0    102030.0   \n",
       "5.0     33 Variations     Eugene O'Neill   4380302  12397897.0     70012.0   \n",
       "\n",
       "     Capacity  Weeks  Performances  AvgTicket  TopTicket      ...       \\\n",
       "ID                                                            ...        \n",
       "1.0  132334.0     16           127       59.0      198.0      ...        \n",
       "2.0  158110.0     21           163       61.0      249.0      ...        \n",
       "3.0  105134.0     15           115       46.0      200.0      ...        \n",
       "4.0  120516.0     16           121       51.0      111.0      ...        \n",
       "5.0  123216.0     15           116       63.0      319.0      ...        \n",
       "\n",
       "     CloseYear  Npreform  Coder  Cast_Size             Theatre Capacity  \\\n",
       "ID                                                                        \n",
       "1.0     2009.0     105.0     OM       19.0  Bernard B. Jacobs    1078.0   \n",
       "2.0     2017.0     125.0     OP       15.0             Hudson     970.0   \n",
       "3.0     2008.0     102.0     OM        6.0             Lyceum     922.0   \n",
       "4.0     2007.0      94.0     RM       17.0           Studio 54   1006.0   \n",
       "5.0     2009.0      85.0     OP       12.0     Eugene O'Neill    1066.0   \n",
       "\n",
       "    Street  ProdCredits  Special     Organizer  \n",
       "ID                                              \n",
       "1.0   45.0         11.0      NaN      Shubert   \n",
       "2.0   44.0          5.0      NaN  Ambassador    \n",
       "3.0   45.0          9.0      NaN      Shubert   \n",
       "4.0   54.0         20.0      NaN  Roundabout    \n",
       "5.0   49.0          5.0      NaN     Jujamcyn   \n",
       "\n",
       "[5 rows x 30 columns]"
      ]
     },
     "execution_count": 336,
     "metadata": {},
     "output_type": "execute_result"
    }
   ],
   "source": [
    "result.head()"
   ]
  },
  {
   "cell_type": "code",
   "execution_count": 337,
   "metadata": {
    "collapsed": true
   },
   "outputs": [],
   "source": [
    "result.to_csv(path_or_buf = 'Model_Data.csv', index=True)"
   ]
  },
  {
   "cell_type": "code",
   "execution_count": 338,
   "metadata": {
    "collapsed": true
   },
   "outputs": [],
   "source": [
    "result2 = result[['Show', 'Category']]"
   ]
  },
  {
   "cell_type": "code",
   "execution_count": 288,
   "metadata": {
    "collapsed": true
   },
   "outputs": [],
   "source": [
    "result2.to_csv(path_or_buf = 'Categories.csv', index=False)"
   ]
  }
 ],
 "metadata": {
  "kernelspec": {
   "display_name": "Python 3",
   "language": "python",
   "name": "python3"
  },
  "language_info": {
   "codemirror_mode": {
    "name": "ipython",
    "version": 3
   },
   "file_extension": ".py",
   "mimetype": "text/x-python",
   "name": "python",
   "nbconvert_exporter": "python",
   "pygments_lexer": "ipython3",
   "version": "3.6.1"
  }
 },
 "nbformat": 4,
 "nbformat_minor": 2
}
