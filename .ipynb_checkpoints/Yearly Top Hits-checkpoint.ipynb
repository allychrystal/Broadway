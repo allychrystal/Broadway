{
 "cells": [
  {
   "cell_type": "markdown",
   "metadata": {},
   "source": [
    "## Bullish on Broadway:  Top Revenue, Attendance, Ticket Per Year"
   ]
  },
  {
   "cell_type": "code",
   "execution_count": 117,
   "metadata": {
    "collapsed": true
   },
   "outputs": [],
   "source": [
    "import numpy as np\n",
    "import pandas as pd\n",
    "import matplotlib.pyplot as plt\n",
    "import seaborn as sns\n",
    "%matplotlib inline\n",
    "from datetime import datetime"
   ]
  },
  {
   "cell_type": "code",
   "execution_count": 118,
   "metadata": {
    "collapsed": true
   },
   "outputs": [],
   "source": [
    "df = pd.read_csv('ibdb_1.csv')"
   ]
  },
  {
   "cell_type": "code",
   "execution_count": 119,
   "metadata": {
    "scrolled": true
   },
   "outputs": [
    {
     "data": {
      "text/plain": [
       "(18017, 18)"
      ]
     },
     "execution_count": 119,
     "metadata": {},
     "output_type": "execute_result"
    }
   ],
   "source": [
    "df.shape"
   ]
  },
  {
   "cell_type": "code",
   "execution_count": 120,
   "metadata": {
    "collapsed": true
   },
   "outputs": [],
   "source": [
    "def fill_nulls(data):\n",
    "    data['GrossChange'] = data['GrossChange'].fillna(0)\n",
    "    data['AttChange'] = data['AttChange'].fillna(0)\n",
    "    data['TopTicket'] = data['TopTicket'].fillna(data['AvgTicket'])\n",
    "    return data\n",
    "\n",
    "df = fill_nulls(df)"
   ]
  },
  {
   "cell_type": "markdown",
   "metadata": {},
   "source": [
    "#### Shows Index"
   ]
  },
  {
   "cell_type": "code",
   "execution_count": 121,
   "metadata": {
    "collapsed": true
   },
   "outputs": [],
   "source": [
    "shows = df.iloc[:, 0:2 ]"
   ]
  },
  {
   "cell_type": "code",
   "execution_count": 122,
   "metadata": {
    "collapsed": true
   },
   "outputs": [],
   "source": [
    "shows.drop_duplicates(keep='first', inplace=True)"
   ]
  },
  {
   "cell_type": "code",
   "execution_count": 123,
   "metadata": {
    "scrolled": true
   },
   "outputs": [
    {
     "data": {
      "text/plain": [
       "(471, 2)"
      ]
     },
     "execution_count": 123,
     "metadata": {},
     "output_type": "execute_result"
    }
   ],
   "source": [
    "shows.shape"
   ]
  },
  {
   "cell_type": "markdown",
   "metadata": {},
   "source": [
    "## Top Grossing Shows"
   ]
  },
  {
   "cell_type": "code",
   "execution_count": 125,
   "metadata": {
    "collapsed": true
   },
   "outputs": [],
   "source": [
    "yearly = shows.sort_values(by='ID')"
   ]
  },
  {
   "cell_type": "code",
   "execution_count": 127,
   "metadata": {
    "collapsed": true
   },
   "outputs": [],
   "source": [
    "for year in range(2006, 2018):\n",
    "    Gross = []\n",
    "    for i in range (1, 472):\n",
    "        x = df.loc[df['ID'] == i, :]\n",
    "        y = x.loc[x['Year']== year,:]\n",
    "        z = sum(y['Gross'])\n",
    "        Gross.append(z)\n",
    "\n",
    "    yearly['{}Gross'.format(year)] = Gross"
   ]
  },
  {
   "cell_type": "code",
   "execution_count": 128,
   "metadata": {
    "scrolled": true
   },
   "outputs": [
    {
     "name": "stdout",
     "output_type": "stream",
     "text": [
      "2006   ['Wicked ']\n",
      "2007   ['Wicked ']\n",
      "2008   ['Wicked ']\n",
      "2009   ['Wicked ']\n",
      "2010   ['Wicked ']\n",
      "2011   ['Wicked ']\n",
      "2012   ['Wicked ']\n",
      "2013   ['The Lion King ']\n",
      "2014   ['The Lion King ']\n",
      "2015   ['The Lion King ']\n",
      "2016   ['Hamilton ']\n",
      "2017   ['Hamilton ']\n"
     ]
    }
   ],
   "source": [
    "for year in range(2006, 2018):\n",
    "    year_max = yearly['{}Gross'.format(year)].max()\n",
    "    x = yearly.loc[yearly['{}Gross'.format(year)] == year_max, :]\n",
    "    print(year, ' ', x.Show.values)"
   ]
  },
  {
   "cell_type": "markdown",
   "metadata": {},
   "source": [
    "## Top Attendance"
   ]
  },
  {
   "cell_type": "code",
   "execution_count": 129,
   "metadata": {
    "collapsed": true
   },
   "outputs": [],
   "source": [
    "yearly_att = shows.sort_values(by='ID')"
   ]
  },
  {
   "cell_type": "code",
   "execution_count": 130,
   "metadata": {
    "collapsed": true
   },
   "outputs": [],
   "source": [
    "for year in range(2006, 2018):\n",
    "    Att = []\n",
    "    for i in range (1, 472):\n",
    "        x = df.loc[df['ID'] == i, :]\n",
    "        y = x.loc[x['Year']== year,:]\n",
    "        z = sum(y['Attendance'])\n",
    "        Att.append(z)\n",
    "\n",
    "    yearly_att['{}Att'.format(year)] = Att"
   ]
  },
  {
   "cell_type": "code",
   "execution_count": 131,
   "metadata": {
    "scrolled": true
   },
   "outputs": [
    {
     "name": "stdout",
     "output_type": "stream",
     "text": [
      "2006   ['Wicked ']\n",
      "2007   ['Wicked ']\n",
      "2008   ['Wicked ']\n",
      "2009   ['Wicked ']\n",
      "2010   ['Wicked ']\n",
      "2011   ['Wicked ']\n",
      "2012   ['Wicked ']\n",
      "2013   ['Wicked ']\n",
      "2014   ['Wicked ']\n",
      "2015   ['Wicked ']\n",
      "2016   ['Wicked ']\n",
      "2017   ['Wicked ']\n"
     ]
    }
   ],
   "source": [
    "for year in range(2006, 2018):\n",
    "    year_max = yearly_att['{}Att'.format(year)].max()\n",
    "    x = yearly_att.loc[yearly_att['{}Att'.format(year)] == year_max, :]\n",
    "    print(year, ' ', x.Show.values)"
   ]
  },
  {
   "cell_type": "markdown",
   "metadata": {},
   "source": [
    "## Most Paid For Ticket Record"
   ]
  },
  {
   "cell_type": "code",
   "execution_count": 132,
   "metadata": {
    "collapsed": true
   },
   "outputs": [],
   "source": [
    "yearly_tix = shows.sort_values(by='ID')"
   ]
  },
  {
   "cell_type": "code",
   "execution_count": 133,
   "metadata": {
    "collapsed": true
   },
   "outputs": [],
   "source": [
    "for year in range(2006, 2018):\n",
    "    Tix = []\n",
    "    for i in range (1, 472):\n",
    "        x = df.loc[df['ID'] == i, :]\n",
    "        y = x.loc[x['Year']== year,:]\n",
    "        z = sum(y['AvgTicket'])\n",
    "        b = y.shape[0]\n",
    "        if b != 0:\n",
    "            q= z/b\n",
    "        else:\n",
    "            q = 0\n",
    "        Tix.append(q)\n",
    "\n",
    "    yearly_tix['{}Tix'.format(year)] = Tix"
   ]
  },
  {
   "cell_type": "code",
   "execution_count": 134,
   "metadata": {
    "scrolled": true
   },
   "outputs": [
    {
     "name": "stdout",
     "output_type": "stream",
     "text": [
      "2006   ['Three Days of Rain '] 111.325\n",
      "2007   ['Jersey Boys '] 122.988\n",
      "2008   ['Jersey Boys '] 115.932692308\n",
      "2009   ['A Steady Rain '] 139.053846154\n",
      "2010   ['The Merchant of Venice '] 130.85\n",
      "2011   ['Elf - The Musical '] 140.8\n",
      "2012   ['The Book of Mormon '] 182.222641509\n",
      "2013   ['The Book of Mormon '] 197.673076923\n",
      "2014   ['The Book of Mormon '] 189.55\n",
      "2015   ['The Book of Mormon '] 173.294230769\n",
      "2016   ['Hamilton '] 186.363461538\n",
      "2017   ['Hamilton '] 274.083673469\n"
     ]
    }
   ],
   "source": [
    "for year in range(2006, 2018):\n",
    "    year_max = yearly_tix['{}Tix'.format(year)].max()\n",
    "    x = yearly_tix.loc[yearly_tix['{}Tix'.format(year)] == year_max, :]\n",
    "    print(year, ' ', x.Show.values, year_max)"
   ]
  },
  {
   "cell_type": "markdown",
   "metadata": {},
   "source": [
    "## Top Average Ticket"
   ]
  },
  {
   "cell_type": "code",
   "execution_count": 135,
   "metadata": {
    "collapsed": true
   },
   "outputs": [],
   "source": [
    "yearly_tix = shows.sort_values(by='ID')"
   ]
  },
  {
   "cell_type": "code",
   "execution_count": 136,
   "metadata": {
    "collapsed": true
   },
   "outputs": [],
   "source": [
    "for year in range(2006, 2018):\n",
    "    Tix = []\n",
    "    for i in range (1, 472):\n",
    "        x = df.loc[df['ID'] == i, :]\n",
    "        y = x.loc[x['Year']== year,:]\n",
    "        z = sum(y['TopTicket'])\n",
    "        b = y.shape[0]\n",
    "        if b != 0:\n",
    "            q= z/b\n",
    "        else:\n",
    "            q = 0\n",
    "        Tix.append(q)\n",
    "\n",
    "    yearly_tix['{}Tix'.format(year)] = Tix"
   ]
  },
  {
   "cell_type": "code",
   "execution_count": 137,
   "metadata": {},
   "outputs": [
    {
     "name": "stdout",
     "output_type": "stream",
     "text": [
      "2006   ['Doubt '] 301.3\n",
      "2007   ['Jersey Boys '] 337.472\n",
      "2008   ['Jersey Boys '] 350.663461538\n",
      "2009   ['A Steady Rain '] 375.0\n",
      "2010   ['Fences '] 355.769230769\n",
      "2011   ['The Book of Mormon '] 394.727272727\n",
      "2012   ['The Book of Mormon '] 477.0\n",
      "2013   ['The Book of Mormon '] 477.0\n",
      "2014   ['The Book of Mormon '] 471.240384615\n",
      "2015   ['The Book of Mormon '] 476.115384615\n",
      "2016   ['Hamilton '] 507.288461538\n",
      "2017   ['Hamilton '] 827.551020408\n"
     ]
    }
   ],
   "source": [
    "for year in range(2006, 2018):\n",
    "    year_max = yearly_tix['{}Tix'.format(year)].max()\n",
    "    x = yearly_tix.loc[yearly_tix['{}Tix'.format(year)] == year_max, :]\n",
    "    print(year, ' ', x.Show.values, year_max)"
   ]
  }
 ],
 "metadata": {
  "kernelspec": {
   "display_name": "Python 3",
   "language": "python",
   "name": "python3"
  },
  "language_info": {
   "codemirror_mode": {
    "name": "ipython",
    "version": 3
   },
   "file_extension": ".py",
   "mimetype": "text/x-python",
   "name": "python",
   "nbconvert_exporter": "python",
   "pygments_lexer": "ipython3",
   "version": "3.6.1"
  }
 },
 "nbformat": 4,
 "nbformat_minor": 2
}
